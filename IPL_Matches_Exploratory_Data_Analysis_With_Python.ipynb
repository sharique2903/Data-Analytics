{
  "nbformat": 4,
  "nbformat_minor": 0,
  "metadata": {
    "colab": {
      "provenance": [],
      "authorship_tag": "ABX9TyM6SbuXH1vOYwlRKO+mzF7z",
      "include_colab_link": true
    },
    "kernelspec": {
      "name": "python3",
      "display_name": "Python 3"
    },
    "language_info": {
      "name": "python"
    }
  },
  "cells": [
    {
      "cell_type": "markdown",
      "metadata": {
        "id": "view-in-github",
        "colab_type": "text"
      },
      "source": [
        "<a href=\"https://colab.research.google.com/github/sharique2903/Data-Analytics/blob/main/IPL_Matches_Exploratory_Data_Analysis_With_Python.ipynb\" target=\"_parent\"><img src=\"https://colab.research.google.com/assets/colab-badge.svg\" alt=\"Open In Colab\"/></a>"
      ]
    },
    {
      "cell_type": "markdown",
      "source": [
        "#**Import Libraries**"
      ],
      "metadata": {
        "id": "TRCco1gJfPbq"
      }
    },
    {
      "cell_type": "code",
      "execution_count": 1,
      "metadata": {
        "id": "UaL6BhrUetZy"
      },
      "outputs": [],
      "source": [
        "import pandas as pd\n",
        "from matplotlib import pyplot as plt\n",
        "import seaborn as sns"
      ]
    },
    {
      "cell_type": "markdown",
      "source": [
        "#**Load The Dataset**"
      ],
      "metadata": {
        "id": "acTbGRsGfpy-"
      }
    },
    {
      "cell_type": "code",
      "source": [
        "ipl = pd.read_csv(\"matches.csv\")"
      ],
      "metadata": {
        "id": "-qx_qDCXfOhX"
      },
      "execution_count": 2,
      "outputs": []
    },
    {
      "cell_type": "markdown",
      "source": [
        "#**First five records of the dataset**"
      ],
      "metadata": {
        "id": "E_H0LHlhgARl"
      }
    },
    {
      "cell_type": "code",
      "source": [
        "ipl.head()"
      ],
      "metadata": {
        "colab": {
          "base_uri": "https://localhost:8080/",
          "height": 452
        },
        "id": "vkboX32Hf0TF",
        "outputId": "f59ea3cf-e37b-49ac-8c6f-84a7ca991eac"
      },
      "execution_count": 3,
      "outputs": [
        {
          "output_type": "execute_result",
          "data": {
            "text/plain": [
              "   id  season       city        date                        team1  \\\n",
              "0   1    2017  Hyderabad  2017-04-05          Sunrisers Hyderabad   \n",
              "1   2    2017       Pune  2017-04-06               Mumbai Indians   \n",
              "2   3    2017     Rajkot  2017-04-07                Gujarat Lions   \n",
              "3   4    2017     Indore  2017-04-08       Rising Pune Supergiant   \n",
              "4   5    2017  Bangalore  2017-04-08  Royal Challengers Bangalore   \n",
              "\n",
              "                         team2                  toss_winner toss_decision  \\\n",
              "0  Royal Challengers Bangalore  Royal Challengers Bangalore         field   \n",
              "1       Rising Pune Supergiant       Rising Pune Supergiant         field   \n",
              "2        Kolkata Knight Riders        Kolkata Knight Riders         field   \n",
              "3              Kings XI Punjab              Kings XI Punjab         field   \n",
              "4             Delhi Daredevils  Royal Challengers Bangalore           bat   \n",
              "\n",
              "   result  dl_applied                       winner  win_by_runs  \\\n",
              "0  normal           0          Sunrisers Hyderabad           35   \n",
              "1  normal           0       Rising Pune Supergiant            0   \n",
              "2  normal           0        Kolkata Knight Riders            0   \n",
              "3  normal           0              Kings XI Punjab            0   \n",
              "4  normal           0  Royal Challengers Bangalore           15   \n",
              "\n",
              "   win_by_wickets player_of_match                                      venue  \\\n",
              "0               0    Yuvraj Singh  Rajiv Gandhi International Stadium, Uppal   \n",
              "1               7       SPD Smith    Maharashtra Cricket Association Stadium   \n",
              "2              10         CA Lynn     Saurashtra Cricket Association Stadium   \n",
              "3               6      GJ Maxwell                     Holkar Cricket Stadium   \n",
              "4               0       KM Jadhav                      M Chinnaswamy Stadium   \n",
              "\n",
              "          umpire1        umpire2 umpire3  \n",
              "0     AY Dandekar       NJ Llong     NaN  \n",
              "1  A Nand Kishore         S Ravi     NaN  \n",
              "2     Nitin Menon      CK Nandan     NaN  \n",
              "3    AK Chaudhary  C Shamshuddin     NaN  \n",
              "4             NaN            NaN     NaN  "
            ],
            "text/html": [
              "\n",
              "  <div id=\"df-1213e13a-299a-4f40-a733-e2af9997f078\" class=\"colab-df-container\">\n",
              "    <div>\n",
              "<style scoped>\n",
              "    .dataframe tbody tr th:only-of-type {\n",
              "        vertical-align: middle;\n",
              "    }\n",
              "\n",
              "    .dataframe tbody tr th {\n",
              "        vertical-align: top;\n",
              "    }\n",
              "\n",
              "    .dataframe thead th {\n",
              "        text-align: right;\n",
              "    }\n",
              "</style>\n",
              "<table border=\"1\" class=\"dataframe\">\n",
              "  <thead>\n",
              "    <tr style=\"text-align: right;\">\n",
              "      <th></th>\n",
              "      <th>id</th>\n",
              "      <th>season</th>\n",
              "      <th>city</th>\n",
              "      <th>date</th>\n",
              "      <th>team1</th>\n",
              "      <th>team2</th>\n",
              "      <th>toss_winner</th>\n",
              "      <th>toss_decision</th>\n",
              "      <th>result</th>\n",
              "      <th>dl_applied</th>\n",
              "      <th>winner</th>\n",
              "      <th>win_by_runs</th>\n",
              "      <th>win_by_wickets</th>\n",
              "      <th>player_of_match</th>\n",
              "      <th>venue</th>\n",
              "      <th>umpire1</th>\n",
              "      <th>umpire2</th>\n",
              "      <th>umpire3</th>\n",
              "    </tr>\n",
              "  </thead>\n",
              "  <tbody>\n",
              "    <tr>\n",
              "      <th>0</th>\n",
              "      <td>1</td>\n",
              "      <td>2017</td>\n",
              "      <td>Hyderabad</td>\n",
              "      <td>2017-04-05</td>\n",
              "      <td>Sunrisers Hyderabad</td>\n",
              "      <td>Royal Challengers Bangalore</td>\n",
              "      <td>Royal Challengers Bangalore</td>\n",
              "      <td>field</td>\n",
              "      <td>normal</td>\n",
              "      <td>0</td>\n",
              "      <td>Sunrisers Hyderabad</td>\n",
              "      <td>35</td>\n",
              "      <td>0</td>\n",
              "      <td>Yuvraj Singh</td>\n",
              "      <td>Rajiv Gandhi International Stadium, Uppal</td>\n",
              "      <td>AY Dandekar</td>\n",
              "      <td>NJ Llong</td>\n",
              "      <td>NaN</td>\n",
              "    </tr>\n",
              "    <tr>\n",
              "      <th>1</th>\n",
              "      <td>2</td>\n",
              "      <td>2017</td>\n",
              "      <td>Pune</td>\n",
              "      <td>2017-04-06</td>\n",
              "      <td>Mumbai Indians</td>\n",
              "      <td>Rising Pune Supergiant</td>\n",
              "      <td>Rising Pune Supergiant</td>\n",
              "      <td>field</td>\n",
              "      <td>normal</td>\n",
              "      <td>0</td>\n",
              "      <td>Rising Pune Supergiant</td>\n",
              "      <td>0</td>\n",
              "      <td>7</td>\n",
              "      <td>SPD Smith</td>\n",
              "      <td>Maharashtra Cricket Association Stadium</td>\n",
              "      <td>A Nand Kishore</td>\n",
              "      <td>S Ravi</td>\n",
              "      <td>NaN</td>\n",
              "    </tr>\n",
              "    <tr>\n",
              "      <th>2</th>\n",
              "      <td>3</td>\n",
              "      <td>2017</td>\n",
              "      <td>Rajkot</td>\n",
              "      <td>2017-04-07</td>\n",
              "      <td>Gujarat Lions</td>\n",
              "      <td>Kolkata Knight Riders</td>\n",
              "      <td>Kolkata Knight Riders</td>\n",
              "      <td>field</td>\n",
              "      <td>normal</td>\n",
              "      <td>0</td>\n",
              "      <td>Kolkata Knight Riders</td>\n",
              "      <td>0</td>\n",
              "      <td>10</td>\n",
              "      <td>CA Lynn</td>\n",
              "      <td>Saurashtra Cricket Association Stadium</td>\n",
              "      <td>Nitin Menon</td>\n",
              "      <td>CK Nandan</td>\n",
              "      <td>NaN</td>\n",
              "    </tr>\n",
              "    <tr>\n",
              "      <th>3</th>\n",
              "      <td>4</td>\n",
              "      <td>2017</td>\n",
              "      <td>Indore</td>\n",
              "      <td>2017-04-08</td>\n",
              "      <td>Rising Pune Supergiant</td>\n",
              "      <td>Kings XI Punjab</td>\n",
              "      <td>Kings XI Punjab</td>\n",
              "      <td>field</td>\n",
              "      <td>normal</td>\n",
              "      <td>0</td>\n",
              "      <td>Kings XI Punjab</td>\n",
              "      <td>0</td>\n",
              "      <td>6</td>\n",
              "      <td>GJ Maxwell</td>\n",
              "      <td>Holkar Cricket Stadium</td>\n",
              "      <td>AK Chaudhary</td>\n",
              "      <td>C Shamshuddin</td>\n",
              "      <td>NaN</td>\n",
              "    </tr>\n",
              "    <tr>\n",
              "      <th>4</th>\n",
              "      <td>5</td>\n",
              "      <td>2017</td>\n",
              "      <td>Bangalore</td>\n",
              "      <td>2017-04-08</td>\n",
              "      <td>Royal Challengers Bangalore</td>\n",
              "      <td>Delhi Daredevils</td>\n",
              "      <td>Royal Challengers Bangalore</td>\n",
              "      <td>bat</td>\n",
              "      <td>normal</td>\n",
              "      <td>0</td>\n",
              "      <td>Royal Challengers Bangalore</td>\n",
              "      <td>15</td>\n",
              "      <td>0</td>\n",
              "      <td>KM Jadhav</td>\n",
              "      <td>M Chinnaswamy Stadium</td>\n",
              "      <td>NaN</td>\n",
              "      <td>NaN</td>\n",
              "      <td>NaN</td>\n",
              "    </tr>\n",
              "  </tbody>\n",
              "</table>\n",
              "</div>\n",
              "    <div class=\"colab-df-buttons\">\n",
              "\n",
              "  <div class=\"colab-df-container\">\n",
              "    <button class=\"colab-df-convert\" onclick=\"convertToInteractive('df-1213e13a-299a-4f40-a733-e2af9997f078')\"\n",
              "            title=\"Convert this dataframe to an interactive table.\"\n",
              "            style=\"display:none;\">\n",
              "\n",
              "  <svg xmlns=\"http://www.w3.org/2000/svg\" height=\"24px\" viewBox=\"0 -960 960 960\">\n",
              "    <path d=\"M120-120v-720h720v720H120Zm60-500h600v-160H180v160Zm220 220h160v-160H400v160Zm0 220h160v-160H400v160ZM180-400h160v-160H180v160Zm440 0h160v-160H620v160ZM180-180h160v-160H180v160Zm440 0h160v-160H620v160Z\"/>\n",
              "  </svg>\n",
              "    </button>\n",
              "\n",
              "  <style>\n",
              "    .colab-df-container {\n",
              "      display:flex;\n",
              "      gap: 12px;\n",
              "    }\n",
              "\n",
              "    .colab-df-convert {\n",
              "      background-color: #E8F0FE;\n",
              "      border: none;\n",
              "      border-radius: 50%;\n",
              "      cursor: pointer;\n",
              "      display: none;\n",
              "      fill: #1967D2;\n",
              "      height: 32px;\n",
              "      padding: 0 0 0 0;\n",
              "      width: 32px;\n",
              "    }\n",
              "\n",
              "    .colab-df-convert:hover {\n",
              "      background-color: #E2EBFA;\n",
              "      box-shadow: 0px 1px 2px rgba(60, 64, 67, 0.3), 0px 1px 3px 1px rgba(60, 64, 67, 0.15);\n",
              "      fill: #174EA6;\n",
              "    }\n",
              "\n",
              "    .colab-df-buttons div {\n",
              "      margin-bottom: 4px;\n",
              "    }\n",
              "\n",
              "    [theme=dark] .colab-df-convert {\n",
              "      background-color: #3B4455;\n",
              "      fill: #D2E3FC;\n",
              "    }\n",
              "\n",
              "    [theme=dark] .colab-df-convert:hover {\n",
              "      background-color: #434B5C;\n",
              "      box-shadow: 0px 1px 3px 1px rgba(0, 0, 0, 0.15);\n",
              "      filter: drop-shadow(0px 1px 2px rgba(0, 0, 0, 0.3));\n",
              "      fill: #FFFFFF;\n",
              "    }\n",
              "  </style>\n",
              "\n",
              "    <script>\n",
              "      const buttonEl =\n",
              "        document.querySelector('#df-1213e13a-299a-4f40-a733-e2af9997f078 button.colab-df-convert');\n",
              "      buttonEl.style.display =\n",
              "        google.colab.kernel.accessAllowed ? 'block' : 'none';\n",
              "\n",
              "      async function convertToInteractive(key) {\n",
              "        const element = document.querySelector('#df-1213e13a-299a-4f40-a733-e2af9997f078');\n",
              "        const dataTable =\n",
              "          await google.colab.kernel.invokeFunction('convertToInteractive',\n",
              "                                                    [key], {});\n",
              "        if (!dataTable) return;\n",
              "\n",
              "        const docLinkHtml = 'Like what you see? Visit the ' +\n",
              "          '<a target=\"_blank\" href=https://colab.research.google.com/notebooks/data_table.ipynb>data table notebook</a>'\n",
              "          + ' to learn more about interactive tables.';\n",
              "        element.innerHTML = '';\n",
              "        dataTable['output_type'] = 'display_data';\n",
              "        await google.colab.output.renderOutput(dataTable, element);\n",
              "        const docLink = document.createElement('div');\n",
              "        docLink.innerHTML = docLinkHtml;\n",
              "        element.appendChild(docLink);\n",
              "      }\n",
              "    </script>\n",
              "  </div>\n",
              "\n",
              "\n",
              "<div id=\"df-35409a21-8e55-41da-8cc5-16f3c05db5e1\">\n",
              "  <button class=\"colab-df-quickchart\" onclick=\"quickchart('df-35409a21-8e55-41da-8cc5-16f3c05db5e1')\"\n",
              "            title=\"Suggest charts\"\n",
              "            style=\"display:none;\">\n",
              "\n",
              "<svg xmlns=\"http://www.w3.org/2000/svg\" height=\"24px\"viewBox=\"0 0 24 24\"\n",
              "     width=\"24px\">\n",
              "    <g>\n",
              "        <path d=\"M19 3H5c-1.1 0-2 .9-2 2v14c0 1.1.9 2 2 2h14c1.1 0 2-.9 2-2V5c0-1.1-.9-2-2-2zM9 17H7v-7h2v7zm4 0h-2V7h2v10zm4 0h-2v-4h2v4z\"/>\n",
              "    </g>\n",
              "</svg>\n",
              "  </button>\n",
              "\n",
              "<style>\n",
              "  .colab-df-quickchart {\n",
              "      --bg-color: #E8F0FE;\n",
              "      --fill-color: #1967D2;\n",
              "      --hover-bg-color: #E2EBFA;\n",
              "      --hover-fill-color: #174EA6;\n",
              "      --disabled-fill-color: #AAA;\n",
              "      --disabled-bg-color: #DDD;\n",
              "  }\n",
              "\n",
              "  [theme=dark] .colab-df-quickchart {\n",
              "      --bg-color: #3B4455;\n",
              "      --fill-color: #D2E3FC;\n",
              "      --hover-bg-color: #434B5C;\n",
              "      --hover-fill-color: #FFFFFF;\n",
              "      --disabled-bg-color: #3B4455;\n",
              "      --disabled-fill-color: #666;\n",
              "  }\n",
              "\n",
              "  .colab-df-quickchart {\n",
              "    background-color: var(--bg-color);\n",
              "    border: none;\n",
              "    border-radius: 50%;\n",
              "    cursor: pointer;\n",
              "    display: none;\n",
              "    fill: var(--fill-color);\n",
              "    height: 32px;\n",
              "    padding: 0;\n",
              "    width: 32px;\n",
              "  }\n",
              "\n",
              "  .colab-df-quickchart:hover {\n",
              "    background-color: var(--hover-bg-color);\n",
              "    box-shadow: 0 1px 2px rgba(60, 64, 67, 0.3), 0 1px 3px 1px rgba(60, 64, 67, 0.15);\n",
              "    fill: var(--button-hover-fill-color);\n",
              "  }\n",
              "\n",
              "  .colab-df-quickchart-complete:disabled,\n",
              "  .colab-df-quickchart-complete:disabled:hover {\n",
              "    background-color: var(--disabled-bg-color);\n",
              "    fill: var(--disabled-fill-color);\n",
              "    box-shadow: none;\n",
              "  }\n",
              "\n",
              "  .colab-df-spinner {\n",
              "    border: 2px solid var(--fill-color);\n",
              "    border-color: transparent;\n",
              "    border-bottom-color: var(--fill-color);\n",
              "    animation:\n",
              "      spin 1s steps(1) infinite;\n",
              "  }\n",
              "\n",
              "  @keyframes spin {\n",
              "    0% {\n",
              "      border-color: transparent;\n",
              "      border-bottom-color: var(--fill-color);\n",
              "      border-left-color: var(--fill-color);\n",
              "    }\n",
              "    20% {\n",
              "      border-color: transparent;\n",
              "      border-left-color: var(--fill-color);\n",
              "      border-top-color: var(--fill-color);\n",
              "    }\n",
              "    30% {\n",
              "      border-color: transparent;\n",
              "      border-left-color: var(--fill-color);\n",
              "      border-top-color: var(--fill-color);\n",
              "      border-right-color: var(--fill-color);\n",
              "    }\n",
              "    40% {\n",
              "      border-color: transparent;\n",
              "      border-right-color: var(--fill-color);\n",
              "      border-top-color: var(--fill-color);\n",
              "    }\n",
              "    60% {\n",
              "      border-color: transparent;\n",
              "      border-right-color: var(--fill-color);\n",
              "    }\n",
              "    80% {\n",
              "      border-color: transparent;\n",
              "      border-right-color: var(--fill-color);\n",
              "      border-bottom-color: var(--fill-color);\n",
              "    }\n",
              "    90% {\n",
              "      border-color: transparent;\n",
              "      border-bottom-color: var(--fill-color);\n",
              "    }\n",
              "  }\n",
              "</style>\n",
              "\n",
              "  <script>\n",
              "    async function quickchart(key) {\n",
              "      const quickchartButtonEl =\n",
              "        document.querySelector('#' + key + ' button');\n",
              "      quickchartButtonEl.disabled = true;  // To prevent multiple clicks.\n",
              "      quickchartButtonEl.classList.add('colab-df-spinner');\n",
              "      try {\n",
              "        const charts = await google.colab.kernel.invokeFunction(\n",
              "            'suggestCharts', [key], {});\n",
              "      } catch (error) {\n",
              "        console.error('Error during call to suggestCharts:', error);\n",
              "      }\n",
              "      quickchartButtonEl.classList.remove('colab-df-spinner');\n",
              "      quickchartButtonEl.classList.add('colab-df-quickchart-complete');\n",
              "    }\n",
              "    (() => {\n",
              "      let quickchartButtonEl =\n",
              "        document.querySelector('#df-35409a21-8e55-41da-8cc5-16f3c05db5e1 button');\n",
              "      quickchartButtonEl.style.display =\n",
              "        google.colab.kernel.accessAllowed ? 'block' : 'none';\n",
              "    })();\n",
              "  </script>\n",
              "</div>\n",
              "\n",
              "    </div>\n",
              "  </div>\n"
            ],
            "application/vnd.google.colaboratory.intrinsic+json": {
              "type": "dataframe",
              "variable_name": "ipl",
              "summary": "{\n  \"name\": \"ipl\",\n  \"rows\": 756,\n  \"fields\": [\n    {\n      \"column\": \"id\",\n      \"properties\": {\n        \"dtype\": \"number\",\n        \"std\": 3464,\n        \"min\": 1,\n        \"max\": 11415,\n        \"num_unique_values\": 756,\n        \"samples\": [\n          409,\n          98,\n          425\n        ],\n        \"semantic_type\": \"\",\n        \"description\": \"\"\n      }\n    },\n    {\n      \"column\": \"season\",\n      \"properties\": {\n        \"dtype\": \"number\",\n        \"std\": 3,\n        \"min\": 2008,\n        \"max\": 2019,\n        \"num_unique_values\": 12,\n        \"samples\": [\n          2018,\n          2016,\n          2017\n        ],\n        \"semantic_type\": \"\",\n        \"description\": \"\"\n      }\n    },\n    {\n      \"column\": \"city\",\n      \"properties\": {\n        \"dtype\": \"category\",\n        \"num_unique_values\": 32,\n        \"samples\": [\n          \"Sharjah\",\n          \"Centurion\",\n          \"Kochi\"\n        ],\n        \"semantic_type\": \"\",\n        \"description\": \"\"\n      }\n    },\n    {\n      \"column\": \"date\",\n      \"properties\": {\n        \"dtype\": \"string\",\n        \"num_unique_values\": 546,\n        \"samples\": [\n          \"2013-05-26\",\n          \"2008-05-20\",\n          \"2015-04-10\"\n        ],\n        \"semantic_type\": \"\",\n        \"description\": \"\"\n      }\n    },\n    {\n      \"column\": \"team1\",\n      \"properties\": {\n        \"dtype\": \"category\",\n        \"num_unique_values\": 15,\n        \"samples\": [\n          \"Rajasthan Royals\",\n          \"Kochi Tuskers Kerala\",\n          \"Sunrisers Hyderabad\"\n        ],\n        \"semantic_type\": \"\",\n        \"description\": \"\"\n      }\n    },\n    {\n      \"column\": \"team2\",\n      \"properties\": {\n        \"dtype\": \"category\",\n        \"num_unique_values\": 15,\n        \"samples\": [\n          \"Chennai Super Kings\",\n          \"Pune Warriors\",\n          \"Royal Challengers Bangalore\"\n        ],\n        \"semantic_type\": \"\",\n        \"description\": \"\"\n      }\n    },\n    {\n      \"column\": \"toss_winner\",\n      \"properties\": {\n        \"dtype\": \"category\",\n        \"num_unique_values\": 15,\n        \"samples\": [\n          \"Rajasthan Royals\",\n          \"Kochi Tuskers Kerala\",\n          \"Royal Challengers Bangalore\"\n        ],\n        \"semantic_type\": \"\",\n        \"description\": \"\"\n      }\n    },\n    {\n      \"column\": \"toss_decision\",\n      \"properties\": {\n        \"dtype\": \"category\",\n        \"num_unique_values\": 2,\n        \"samples\": [\n          \"bat\",\n          \"field\"\n        ],\n        \"semantic_type\": \"\",\n        \"description\": \"\"\n      }\n    },\n    {\n      \"column\": \"result\",\n      \"properties\": {\n        \"dtype\": \"category\",\n        \"num_unique_values\": 3,\n        \"samples\": [\n          \"normal\",\n          \"tie\"\n        ],\n        \"semantic_type\": \"\",\n        \"description\": \"\"\n      }\n    },\n    {\n      \"column\": \"dl_applied\",\n      \"properties\": {\n        \"dtype\": \"number\",\n        \"std\": 0,\n        \"min\": 0,\n        \"max\": 1,\n        \"num_unique_values\": 2,\n        \"samples\": [\n          1,\n          0\n        ],\n        \"semantic_type\": \"\",\n        \"description\": \"\"\n      }\n    },\n    {\n      \"column\": \"winner\",\n      \"properties\": {\n        \"dtype\": \"category\",\n        \"num_unique_values\": 15,\n        \"samples\": [\n          \"Rajasthan Royals\",\n          \"Pune Warriors\"\n        ],\n        \"semantic_type\": \"\",\n        \"description\": \"\"\n      }\n    },\n    {\n      \"column\": \"win_by_runs\",\n      \"properties\": {\n        \"dtype\": \"number\",\n        \"std\": 23,\n        \"min\": 0,\n        \"max\": 146,\n        \"num_unique_values\": 89,\n        \"samples\": [\n          53,\n          40\n        ],\n        \"semantic_type\": \"\",\n        \"description\": \"\"\n      }\n    },\n    {\n      \"column\": \"win_by_wickets\",\n      \"properties\": {\n        \"dtype\": \"number\",\n        \"std\": 3,\n        \"min\": 0,\n        \"max\": 10,\n        \"num_unique_values\": 11,\n        \"samples\": [\n          4,\n          0\n        ],\n        \"semantic_type\": \"\",\n        \"description\": \"\"\n      }\n    },\n    {\n      \"column\": \"player_of_match\",\n      \"properties\": {\n        \"dtype\": \"category\",\n        \"num_unique_values\": 226,\n        \"samples\": [\n          \"JJ Bumrah\",\n          \"MA Agarwal\"\n        ],\n        \"semantic_type\": \"\",\n        \"description\": \"\"\n      }\n    },\n    {\n      \"column\": \"venue\",\n      \"properties\": {\n        \"dtype\": \"category\",\n        \"num_unique_values\": 41,\n        \"samples\": [\n          \"Barabati Stadium\",\n          \"Dr DY Patil Sports Academy\"\n        ],\n        \"semantic_type\": \"\",\n        \"description\": \"\"\n      }\n    },\n    {\n      \"column\": \"umpire1\",\n      \"properties\": {\n        \"dtype\": \"category\",\n        \"num_unique_values\": 61,\n        \"samples\": [\n          \"AY Dandekar\",\n          \"KN Ananthapadmanabhan\"\n        ],\n        \"semantic_type\": \"\",\n        \"description\": \"\"\n      }\n    },\n    {\n      \"column\": \"umpire2\",\n      \"properties\": {\n        \"dtype\": \"category\",\n        \"num_unique_values\": 65,\n        \"samples\": [\n          \"O Nandan\",\n          \"Nanda Kishore\"\n        ],\n        \"semantic_type\": \"\",\n        \"description\": \"\"\n      }\n    },\n    {\n      \"column\": \"umpire3\",\n      \"properties\": {\n        \"dtype\": \"category\",\n        \"num_unique_values\": 25,\n        \"samples\": [\n          \"Chris Gaffaney\",\n          \"Marais Erasmus\"\n        ],\n        \"semantic_type\": \"\",\n        \"description\": \"\"\n      }\n    }\n  ]\n}"
            }
          },
          "metadata": {},
          "execution_count": 3
        }
      ]
    },
    {
      "cell_type": "markdown",
      "source": [
        "#**Number of rows and columns**"
      ],
      "metadata": {
        "id": "pIv-ZHeSgKv-"
      }
    },
    {
      "cell_type": "code",
      "source": [
        "ipl.shape"
      ],
      "metadata": {
        "colab": {
          "base_uri": "https://localhost:8080/"
        },
        "id": "yXGlgZp9gFEd",
        "outputId": "112ef7c8-39ae-41a4-fbeb-f02cd11eea89"
      },
      "execution_count": 4,
      "outputs": [
        {
          "output_type": "execute_result",
          "data": {
            "text/plain": [
              "(756, 18)"
            ]
          },
          "metadata": {},
          "execution_count": 4
        }
      ]
    },
    {
      "cell_type": "markdown",
      "source": [
        "#**Number of most Man of the Match Awards**"
      ],
      "metadata": {
        "id": "L0_bPZG4gmAR"
      }
    },
    {
      "cell_type": "code",
      "source": [
        "ipl[\"player_of_match\"].value_counts()"
      ],
      "metadata": {
        "colab": {
          "base_uri": "https://localhost:8080/"
        },
        "id": "_zHhUjMmgU3e",
        "outputId": "2315ff33-8fc9-469d-93b6-582c1be28a79"
      },
      "execution_count": 6,
      "outputs": [
        {
          "output_type": "execute_result",
          "data": {
            "text/plain": [
              "player_of_match\n",
              "CH Gayle          21\n",
              "AB de Villiers    20\n",
              "RG Sharma         17\n",
              "MS Dhoni          17\n",
              "DA Warner         17\n",
              "                  ..\n",
              "PD Collingwood     1\n",
              "NV Ojha            1\n",
              "AC Voges           1\n",
              "J Theron           1\n",
              "S Hetmyer          1\n",
              "Name: count, Length: 226, dtype: int64"
            ]
          },
          "metadata": {},
          "execution_count": 6
        }
      ]
    },
    {
      "cell_type": "markdown",
      "source": [
        "#**Top 10 players with most Man of the Match Awards**"
      ],
      "metadata": {
        "id": "be95Zfq7g0A2"
      }
    },
    {
      "cell_type": "code",
      "source": [
        "ipl[\"player_of_match\"].value_counts()[0:10]"
      ],
      "metadata": {
        "colab": {
          "base_uri": "https://localhost:8080/"
        },
        "id": "B4EaFNKIg0jF",
        "outputId": "713d9978-48b9-4e71-ba97-38a050b3b9bf"
      },
      "execution_count": 7,
      "outputs": [
        {
          "output_type": "execute_result",
          "data": {
            "text/plain": [
              "player_of_match\n",
              "CH Gayle          21\n",
              "AB de Villiers    20\n",
              "RG Sharma         17\n",
              "MS Dhoni          17\n",
              "DA Warner         17\n",
              "YK Pathan         16\n",
              "SR Watson         15\n",
              "SK Raina          14\n",
              "G Gambhir         13\n",
              "MEK Hussey        12\n",
              "Name: count, dtype: int64"
            ]
          },
          "metadata": {},
          "execution_count": 7
        }
      ]
    },
    {
      "cell_type": "markdown",
      "source": [
        "#**Top 5 players with most Man of the Match Awards**"
      ],
      "metadata": {
        "id": "k7lIM1-whdU9"
      }
    },
    {
      "cell_type": "code",
      "source": [
        "ipl[\"player_of_match\"].value_counts()[0:5]"
      ],
      "metadata": {
        "colab": {
          "base_uri": "https://localhost:8080/"
        },
        "id": "e4JYEz-dhCDM",
        "outputId": "9b511167-7dbe-4f97-9344-d798048c7b98"
      },
      "execution_count": 8,
      "outputs": [
        {
          "output_type": "execute_result",
          "data": {
            "text/plain": [
              "player_of_match\n",
              "CH Gayle          21\n",
              "AB de Villiers    20\n",
              "RG Sharma         17\n",
              "MS Dhoni          17\n",
              "DA Warner         17\n",
              "Name: count, dtype: int64"
            ]
          },
          "metadata": {},
          "execution_count": 8
        }
      ]
    },
    {
      "cell_type": "markdown",
      "source": [
        "#**Bar Plot of 5 players with most Man of the Match Awards**"
      ],
      "metadata": {
        "id": "jeqRXgOAjDOO"
      }
    },
    {
      "cell_type": "code",
      "source": [
        "plt.figure(figsize = (7.5,7.5))\n",
        "plt.bar(list(ipl[\"player_of_match\"].value_counts()[0:5].keys()), list(ipl[\"player_of_match\"].value_counts()[0:5]))\n",
        "plt.xlabel(\"Players\")\n",
        "plt.ylabel(\"Count Of Matches\")\n",
        "plt.show()"
      ],
      "metadata": {
        "colab": {
          "base_uri": "https://localhost:8080/",
          "height": 657
        },
        "id": "xlryCdDshr5x",
        "outputId": "5f8aeb65-b605-4a99-d744-3efd8184a11d"
      },
      "execution_count": 9,
      "outputs": [
        {
          "output_type": "display_data",
          "data": {
            "text/plain": [
              "<Figure size 750x750 with 1 Axes>"
            ],
            "image/png": "[encoded data removed]"
          },
          "metadata": {}
        }
      ]
    },
    {
      "cell_type": "markdown",
      "source": [
        "#**IPL Match Result Count**"
      ],
      "metadata": {
        "id": "HgH51k2WjYx2"
      }
    },
    {
      "cell_type": "code",
      "source": [
        "ipl[\"result\"].value_counts()"
      ],
      "metadata": {
        "colab": {
          "base_uri": "https://localhost:8080/"
        },
        "id": "SY4ZUA8NhsCM",
        "outputId": "884a029d-50b9-4c65-b55b-ab7c845d6b62"
      },
      "execution_count": 10,
      "outputs": [
        {
          "output_type": "execute_result",
          "data": {
            "text/plain": [
              "result\n",
              "normal       743\n",
              "tie            9\n",
              "no result      4\n",
              "Name: count, dtype: int64"
            ]
          },
          "metadata": {},
          "execution_count": 10
        }
      ]
    },
    {
      "cell_type": "markdown",
      "source": [
        "#**Number Of Toss Wins w.r.t each team**"
      ],
      "metadata": {
        "id": "n4VbvdhXj1fZ"
      }
    },
    {
      "cell_type": "code",
      "source": [
        "ipl[\"toss_winner\"].value_counts()"
      ],
      "metadata": {
        "colab": {
          "base_uri": "https://localhost:8080/"
        },
        "id": "bBrZ1JhqhsFA",
        "outputId": "27e6854c-34de-4628-bba0-e21b7a42e366"
      },
      "execution_count": 11,
      "outputs": [
        {
          "output_type": "execute_result",
          "data": {
            "text/plain": [
              "toss_winner\n",
              "Mumbai Indians                 98\n",
              "Kolkata Knight Riders          92\n",
              "Chennai Super Kings            89\n",
              "Royal Challengers Bangalore    81\n",
              "Kings XI Punjab                81\n",
              "Delhi Daredevils               80\n",
              "Rajasthan Royals               80\n",
              "Sunrisers Hyderabad            46\n",
              "Deccan Chargers                43\n",
              "Pune Warriors                  20\n",
              "Gujarat Lions                  15\n",
              "Delhi Capitals                 10\n",
              "Kochi Tuskers Kerala            8\n",
              "Rising Pune Supergiants         7\n",
              "Rising Pune Supergiant          6\n",
              "Name: count, dtype: int64"
            ]
          },
          "metadata": {},
          "execution_count": 11
        }
      ]
    },
    {
      "cell_type": "markdown",
      "source": [
        "#**Team Won if they Bat First**"
      ],
      "metadata": {
        "id": "QkgzIGUDlZe9"
      }
    },
    {
      "cell_type": "code",
      "source": [
        "bat_first = ipl[ipl[\"win_by_runs\"] != 0]\n",
        "bat_first.head()"
      ],
      "metadata": {
        "colab": {
          "base_uri": "https://localhost:8080/",
          "height": 417
        },
        "id": "C32jhpNAhsHc",
        "outputId": "f33179b1-d846-420b-9352-f6c1b9d44277"
      },
      "execution_count": 12,
      "outputs": [
        {
          "output_type": "execute_result",
          "data": {
            "text/plain": [
              "    id  season       city        date                        team1  \\\n",
              "0    1    2017  Hyderabad  2017-04-05          Sunrisers Hyderabad   \n",
              "4    5    2017  Bangalore  2017-04-08  Royal Challengers Bangalore   \n",
              "8    9    2017       Pune  2017-04-11             Delhi Daredevils   \n",
              "13  14    2017    Kolkata  2017-04-15        Kolkata Knight Riders   \n",
              "14  15    2017      Delhi  2017-04-15             Delhi Daredevils   \n",
              "\n",
              "                          team2                  toss_winner toss_decision  \\\n",
              "0   Royal Challengers Bangalore  Royal Challengers Bangalore         field   \n",
              "4              Delhi Daredevils  Royal Challengers Bangalore           bat   \n",
              "8        Rising Pune Supergiant       Rising Pune Supergiant         field   \n",
              "13          Sunrisers Hyderabad          Sunrisers Hyderabad         field   \n",
              "14              Kings XI Punjab             Delhi Daredevils           bat   \n",
              "\n",
              "    result  dl_applied                       winner  win_by_runs  \\\n",
              "0   normal           0          Sunrisers Hyderabad           35   \n",
              "4   normal           0  Royal Challengers Bangalore           15   \n",
              "8   normal           0             Delhi Daredevils           97   \n",
              "13  normal           0        Kolkata Knight Riders           17   \n",
              "14  normal           0             Delhi Daredevils           51   \n",
              "\n",
              "    win_by_wickets player_of_match                                      venue  \\\n",
              "0                0    Yuvraj Singh  Rajiv Gandhi International Stadium, Uppal   \n",
              "4                0       KM Jadhav                      M Chinnaswamy Stadium   \n",
              "8                0       SV Samson    Maharashtra Cricket Association Stadium   \n",
              "13               0      RV Uthappa                               Eden Gardens   \n",
              "14               0     CJ Anderson                           Feroz Shah Kotla   \n",
              "\n",
              "        umpire1      umpire2 umpire3  \n",
              "0   AY Dandekar     NJ Llong     NaN  \n",
              "4           NaN          NaN     NaN  \n",
              "8   AY Dandekar       S Ravi     NaN  \n",
              "13  AY Dandekar     NJ Llong     NaN  \n",
              "14     YC Barde  Nitin Menon     NaN  "
            ],
            "text/html": [
              "\n",
              "  <div id=\"df-7fad1615-256d-4231-be84-98530bff05b6\" class=\"colab-df-container\">\n",
              "    <div>\n",
              "<style scoped>\n",
              "    .dataframe tbody tr th:only-of-type {\n",
              "        vertical-align: middle;\n",
              "    }\n",
              "\n",
              "    .dataframe tbody tr th {\n",
              "        vertical-align: top;\n",
              "    }\n",
              "\n",
              "    .dataframe thead th {\n",
              "        text-align: right;\n",
              "    }\n",
              "</style>\n",
              "<table border=\"1\" class=\"dataframe\">\n",
              "  <thead>\n",
              "    <tr style=\"text-align: right;\">\n",
              "      <th></th>\n",
              "      <th>id</th>\n",
              "      <th>season</th>\n",
              "      <th>city</th>\n",
              "      <th>date</th>\n",
              "      <th>team1</th>\n",
              "      <th>team2</th>\n",
              "      <th>toss_winner</th>\n",
              "      <th>toss_decision</th>\n",
              "      <th>result</th>\n",
              "      <th>dl_applied</th>\n",
              "      <th>winner</th>\n",
              "      <th>win_by_runs</th>\n",
              "      <th>win_by_wickets</th>\n",
              "      <th>player_of_match</th>\n",
              "      <th>venue</th>\n",
              "      <th>umpire1</th>\n",
              "      <th>umpire2</th>\n",
              "      <th>umpire3</th>\n",
              "    </tr>\n",
              "  </thead>\n",
              "  <tbody>\n",
              "    <tr>\n",
              "      <th>0</th>\n",
              "      <td>1</td>\n",
              "      <td>2017</td>\n",
              "      <td>Hyderabad</td>\n",
              "      <td>2017-04-05</td>\n",
              "      <td>Sunrisers Hyderabad</td>\n",
              "      <td>Royal Challengers Bangalore</td>\n",
              "      <td>Royal Challengers Bangalore</td>\n",
              "      <td>field</td>\n",
              "      <td>normal</td>\n",
              "      <td>0</td>\n",
              "      <td>Sunrisers Hyderabad</td>\n",
              "      <td>35</td>\n",
              "      <td>0</td>\n",
              "      <td>Yuvraj Singh</td>\n",
              "      <td>Rajiv Gandhi International Stadium, Uppal</td>\n",
              "      <td>AY Dandekar</td>\n",
              "      <td>NJ Llong</td>\n",
              "      <td>NaN</td>\n",
              "    </tr>\n",
              "    <tr>\n",
              "      <th>4</th>\n",
              "      <td>5</td>\n",
              "      <td>2017</td>\n",
              "      <td>Bangalore</td>\n",
              "      <td>2017-04-08</td>\n",
              "      <td>Royal Challengers Bangalore</td>\n",
              "      <td>Delhi Daredevils</td>\n",
              "      <td>Royal Challengers Bangalore</td>\n",
              "      <td>bat</td>\n",
              "      <td>normal</td>\n",
              "      <td>0</td>\n",
              "      <td>Royal Challengers Bangalore</td>\n",
              "      <td>15</td>\n",
              "      <td>0</td>\n",
              "      <td>KM Jadhav</td>\n",
              "      <td>M Chinnaswamy Stadium</td>\n",
              "      <td>NaN</td>\n",
              "      <td>NaN</td>\n",
              "      <td>NaN</td>\n",
              "    </tr>\n",
              "    <tr>\n",
              "      <th>8</th>\n",
              "      <td>9</td>\n",
              "      <td>2017</td>\n",
              "      <td>Pune</td>\n",
              "      <td>2017-04-11</td>\n",
              "      <td>Delhi Daredevils</td>\n",
              "      <td>Rising Pune Supergiant</td>\n",
              "      <td>Rising Pune Supergiant</td>\n",
              "      <td>field</td>\n",
              "      <td>normal</td>\n",
              "      <td>0</td>\n",
              "      <td>Delhi Daredevils</td>\n",
              "      <td>97</td>\n",
              "      <td>0</td>\n",
              "      <td>SV Samson</td>\n",
              "      <td>Maharashtra Cricket Association Stadium</td>\n",
              "      <td>AY Dandekar</td>\n",
              "      <td>S Ravi</td>\n",
              "      <td>NaN</td>\n",
              "    </tr>\n",
              "    <tr>\n",
              "      <th>13</th>\n",
              "      <td>14</td>\n",
              "      <td>2017</td>\n",
              "      <td>Kolkata</td>\n",
              "      <td>2017-04-15</td>\n",
              "      <td>Kolkata Knight Riders</td>\n",
              "      <td>Sunrisers Hyderabad</td>\n",
              "      <td>Sunrisers Hyderabad</td>\n",
              "      <td>field</td>\n",
              "      <td>normal</td>\n",
              "      <td>0</td>\n",
              "      <td>Kolkata Knight Riders</td>\n",
              "      <td>17</td>\n",
              "      <td>0</td>\n",
              "      <td>RV Uthappa</td>\n",
              "      <td>Eden Gardens</td>\n",
              "      <td>AY Dandekar</td>\n",
              "      <td>NJ Llong</td>\n",
              "      <td>NaN</td>\n",
              "    </tr>\n",
              "    <tr>\n",
              "      <th>14</th>\n",
              "      <td>15</td>\n",
              "      <td>2017</td>\n",
              "      <td>Delhi</td>\n",
              "      <td>2017-04-15</td>\n",
              "      <td>Delhi Daredevils</td>\n",
              "      <td>Kings XI Punjab</td>\n",
              "      <td>Delhi Daredevils</td>\n",
              "      <td>bat</td>\n",
              "      <td>normal</td>\n",
              "      <td>0</td>\n",
              "      <td>Delhi Daredevils</td>\n",
              "      <td>51</td>\n",
              "      <td>0</td>\n",
              "      <td>CJ Anderson</td>\n",
              "      <td>Feroz Shah Kotla</td>\n",
              "      <td>YC Barde</td>\n",
              "      <td>Nitin Menon</td>\n",
              "      <td>NaN</td>\n",
              "    </tr>\n",
              "  </tbody>\n",
              "</table>\n",
              "</div>\n",
              "    <div class=\"colab-df-buttons\">\n",
              "\n",
              "  <div class=\"colab-df-container\">\n",
              "    <button class=\"colab-df-convert\" onclick=\"convertToInteractive('df-7fad1615-256d-4231-be84-98530bff05b6')\"\n",
              "            title=\"Convert this dataframe to an interactive table.\"\n",
              "            style=\"display:none;\">\n",
              "\n",
              "  <svg xmlns=\"http://www.w3.org/2000/svg\" height=\"24px\" viewBox=\"0 -960 960 960\">\n",
              "    <path d=\"M120-120v-720h720v720H120Zm60-500h600v-160H180v160Zm220 220h160v-160H400v160Zm0 220h160v-160H400v160ZM180-400h160v-160H180v160Zm440 0h160v-160H620v160ZM180-180h160v-160H180v160Zm440 0h160v-160H620v160Z\"/>\n",
              "  </svg>\n",
              "    </button>\n",
              "\n",
              "  <style>\n",
              "    .colab-df-container {\n",
              "      display:flex;\n",
              "      gap: 12px;\n",
              "    }\n",
              "\n",
              "    .colab-df-convert {\n",
              "      background-color: #E8F0FE;\n",
              "      border: none;\n",
              "      border-radius: 50%;\n",
              "      cursor: pointer;\n",
              "      display: none;\n",
              "      fill: #1967D2;\n",
              "      height: 32px;\n",
              "      padding: 0 0 0 0;\n",
              "      width: 32px;\n",
              "    }\n",
              "\n",
              "    .colab-df-convert:hover {\n",
              "      background-color: #E2EBFA;\n",
              "      box-shadow: 0px 1px 2px rgba(60, 64, 67, 0.3), 0px 1px 3px 1px rgba(60, 64, 67, 0.15);\n",
              "      fill: #174EA6;\n",
              "    }\n",
              "\n",
              "    .colab-df-buttons div {\n",
              "      margin-bottom: 4px;\n",
              "    }\n",
              "\n",
              "    [theme=dark] .colab-df-convert {\n",
              "      background-color: #3B4455;\n",
              "      fill: #D2E3FC;\n",
              "    }\n",
              "\n",
              "    [theme=dark] .colab-df-convert:hover {\n",
              "      background-color: #434B5C;\n",
              "      box-shadow: 0px 1px 3px 1px rgba(0, 0, 0, 0.15);\n",
              "      filter: drop-shadow(0px 1px 2px rgba(0, 0, 0, 0.3));\n",
              "      fill: #FFFFFF;\n",
              "    }\n",
              "  </style>\n",
              "\n",
              "    <script>\n",
              "      const buttonEl =\n",
              "        document.querySelector('#df-7fad1615-256d-4231-be84-98530bff05b6 button.colab-df-convert');\n",
              "      buttonEl.style.display =\n",
              "        google.colab.kernel.accessAllowed ? 'block' : 'none';\n",
              "\n",
              "      async function convertToInteractive(key) {\n",
              "        const element = document.querySelector('#df-7fad1615-256d-4231-be84-98530bff05b6');\n",
              "        const dataTable =\n",
              "          await google.colab.kernel.invokeFunction('convertToInteractive',\n",
              "                                                    [key], {});\n",
              "        if (!dataTable) return;\n",
              "\n",
              "        const docLinkHtml = 'Like what you see? Visit the ' +\n",
              "          '<a target=\"_blank\" href=https://colab.research.google.com/notebooks/data_table.ipynb>data table notebook</a>'\n",
              "          + ' to learn more about interactive tables.';\n",
              "        element.innerHTML = '';\n",
              "        dataTable['output_type'] = 'display_data';\n",
              "        await google.colab.output.renderOutput(dataTable, element);\n",
              "        const docLink = document.createElement('div');\n",
              "        docLink.innerHTML = docLinkHtml;\n",
              "        element.appendChild(docLink);\n",
              "      }\n",
              "    </script>\n",
              "  </div>\n",
              "\n",
              "\n",
              "<div id=\"df-85fd7127-fd24-4923-8a62-97c49767863b\">\n",
              "  <button class=\"colab-df-quickchart\" onclick=\"quickchart('df-85fd7127-fd24-4923-8a62-97c49767863b')\"\n",
              "            title=\"Suggest charts\"\n",
              "            style=\"display:none;\">\n",
              "\n",
              "<svg xmlns=\"http://www.w3.org/2000/svg\" height=\"24px\"viewBox=\"0 0 24 24\"\n",
              "     width=\"24px\">\n",
              "    <g>\n",
              "        <path d=\"M19 3H5c-1.1 0-2 .9-2 2v14c0 1.1.9 2 2 2h14c1.1 0 2-.9 2-2V5c0-1.1-.9-2-2-2zM9 17H7v-7h2v7zm4 0h-2V7h2v10zm4 0h-2v-4h2v4z\"/>\n",
              "    </g>\n",
              "</svg>\n",
              "  </button>\n",
              "\n",
              "<style>\n",
              "  .colab-df-quickchart {\n",
              "      --bg-color: #E8F0FE;\n",
              "      --fill-color: #1967D2;\n",
              "      --hover-bg-color: #E2EBFA;\n",
              "      --hover-fill-color: #174EA6;\n",
              "      --disabled-fill-color: #AAA;\n",
              "      --disabled-bg-color: #DDD;\n",
              "  }\n",
              "\n",
              "  [theme=dark] .colab-df-quickchart {\n",
              "      --bg-color: #3B4455;\n",
              "      --fill-color: #D2E3FC;\n",
              "      --hover-bg-color: #434B5C;\n",
              "      --hover-fill-color: #FFFFFF;\n",
              "      --disabled-bg-color: #3B4455;\n",
              "      --disabled-fill-color: #666;\n",
              "  }\n",
              "\n",
              "  .colab-df-quickchart {\n",
              "    background-color: var(--bg-color);\n",
              "    border: none;\n",
              "    border-radius: 50%;\n",
              "    cursor: pointer;\n",
              "    display: none;\n",
              "    fill: var(--fill-color);\n",
              "    height: 32px;\n",
              "    padding: 0;\n",
              "    width: 32px;\n",
              "  }\n",
              "\n",
              "  .colab-df-quickchart:hover {\n",
              "    background-color: var(--hover-bg-color);\n",
              "    box-shadow: 0 1px 2px rgba(60, 64, 67, 0.3), 0 1px 3px 1px rgba(60, 64, 67, 0.15);\n",
              "    fill: var(--button-hover-fill-color);\n",
              "  }\n",
              "\n",
              "  .colab-df-quickchart-complete:disabled,\n",
              "  .colab-df-quickchart-complete:disabled:hover {\n",
              "    background-color: var(--disabled-bg-color);\n",
              "    fill: var(--disabled-fill-color);\n",
              "    box-shadow: none;\n",
              "  }\n",
              "\n",
              "  .colab-df-spinner {\n",
              "    border: 2px solid var(--fill-color);\n",
              "    border-color: transparent;\n",
              "    border-bottom-color: var(--fill-color);\n",
              "    animation:\n",
              "      spin 1s steps(1) infinite;\n",
              "  }\n",
              "\n",
              "  @keyframes spin {\n",
              "    0% {\n",
              "      border-color: transparent;\n",
              "      border-bottom-color: var(--fill-color);\n",
              "      border-left-color: var(--fill-color);\n",
              "    }\n",
              "    20% {\n",
              "      border-color: transparent;\n",
              "      border-left-color: var(--fill-color);\n",
              "      border-top-color: var(--fill-color);\n",
              "    }\n",
              "    30% {\n",
              "      border-color: transparent;\n",
              "      border-left-color: var(--fill-color);\n",
              "      border-top-color: var(--fill-color);\n",
              "      border-right-color: var(--fill-color);\n",
              "    }\n",
              "    40% {\n",
              "      border-color: transparent;\n",
              "      border-right-color: var(--fill-color);\n",
              "      border-top-color: var(--fill-color);\n",
              "    }\n",
              "    60% {\n",
              "      border-color: transparent;\n",
              "      border-right-color: var(--fill-color);\n",
              "    }\n",
              "    80% {\n",
              "      border-color: transparent;\n",
              "      border-right-color: var(--fill-color);\n",
              "      border-bottom-color: var(--fill-color);\n",
              "    }\n",
              "    90% {\n",
              "      border-color: transparent;\n",
              "      border-bottom-color: var(--fill-color);\n",
              "    }\n",
              "  }\n",
              "</style>\n",
              "\n",
              "  <script>\n",
              "    async function quickchart(key) {\n",
              "      const quickchartButtonEl =\n",
              "        document.querySelector('#' + key + ' button');\n",
              "      quickchartButtonEl.disabled = true;  // To prevent multiple clicks.\n",
              "      quickchartButtonEl.classList.add('colab-df-spinner');\n",
              "      try {\n",
              "        const charts = await google.colab.kernel.invokeFunction(\n",
              "            'suggestCharts', [key], {});\n",
              "      } catch (error) {\n",
              "        console.error('Error during call to suggestCharts:', error);\n",
              "      }\n",
              "      quickchartButtonEl.classList.remove('colab-df-spinner');\n",
              "      quickchartButtonEl.classList.add('colab-df-quickchart-complete');\n",
              "    }\n",
              "    (() => {\n",
              "      let quickchartButtonEl =\n",
              "        document.querySelector('#df-85fd7127-fd24-4923-8a62-97c49767863b button');\n",
              "      quickchartButtonEl.style.display =\n",
              "        google.colab.kernel.accessAllowed ? 'block' : 'none';\n",
              "    })();\n",
              "  </script>\n",
              "</div>\n",
              "\n",
              "    </div>\n",
              "  </div>\n"
            ],
            "application/vnd.google.colaboratory.intrinsic+json": {
              "type": "dataframe",
              "variable_name": "bat_first",
              "summary": "{\n  \"name\": \"bat_first\",\n  \"rows\": 337,\n  \"fields\": [\n    {\n      \"column\": \"id\",\n      \"properties\": {\n        \"dtype\": \"number\",\n        \"std\": 3299,\n        \"min\": 1,\n        \"max\": 11415,\n        \"num_unique_values\": 337,\n        \"samples\": [\n          107,\n          354,\n          130\n        ],\n        \"semantic_type\": \"\",\n        \"description\": \"\"\n      }\n    },\n    {\n      \"column\": \"season\",\n      \"properties\": {\n        \"dtype\": \"number\",\n        \"std\": 3,\n        \"min\": 2008,\n        \"max\": 2019,\n        \"num_unique_values\": 12,\n        \"samples\": [\n          2018,\n          2016,\n          2017\n        ],\n        \"semantic_type\": \"\",\n        \"description\": \"\"\n      }\n    },\n    {\n      \"column\": \"city\",\n      \"properties\": {\n        \"dtype\": \"category\",\n        \"num_unique_values\": 31,\n        \"samples\": [\n          \"Sharjah\",\n          \"Johannesburg\",\n          \"Visakhapatnam\"\n        ],\n        \"semantic_type\": \"\",\n        \"description\": \"\"\n      }\n    },\n    {\n      \"column\": \"date\",\n      \"properties\": {\n        \"dtype\": \"string\",\n        \"num_unique_values\": 300,\n        \"samples\": [\n          \"2014-05-19\",\n          \"30/04/18\",\n          \"2012-05-20\"\n        ],\n        \"semantic_type\": \"\",\n        \"description\": \"\"\n      }\n    },\n    {\n      \"column\": \"team1\",\n      \"properties\": {\n        \"dtype\": \"category\",\n        \"num_unique_values\": 14,\n        \"samples\": [\n          \"Deccan Chargers\",\n          \"Pune Warriors\",\n          \"Sunrisers Hyderabad\"\n        ],\n        \"semantic_type\": \"\",\n        \"description\": \"\"\n      }\n    },\n    {\n      \"column\": \"team2\",\n      \"properties\": {\n        \"dtype\": \"category\",\n        \"num_unique_values\": 15,\n        \"samples\": [\n          \"Rajasthan Royals\",\n          \"Pune Warriors\",\n          \"Royal Challengers Bangalore\"\n        ],\n        \"semantic_type\": \"\",\n        \"description\": \"\"\n      }\n    },\n    {\n      \"column\": \"toss_winner\",\n      \"properties\": {\n        \"dtype\": \"category\",\n        \"num_unique_values\": 15,\n        \"samples\": [\n          \"Rajasthan Royals\",\n          \"Pune Warriors\",\n          \"Royal Challengers Bangalore\"\n        ],\n        \"semantic_type\": \"\",\n        \"description\": \"\"\n      }\n    },\n    {\n      \"column\": \"toss_decision\",\n      \"properties\": {\n        \"dtype\": \"category\",\n        \"num_unique_values\": 2,\n        \"samples\": [\n          \"bat\",\n          \"field\"\n        ],\n        \"semantic_type\": \"\",\n        \"description\": \"\"\n      }\n    },\n    {\n      \"column\": \"result\",\n      \"properties\": {\n        \"dtype\": \"category\",\n        \"num_unique_values\": 1,\n        \"samples\": [\n          \"normal\"\n        ],\n        \"semantic_type\": \"\",\n        \"description\": \"\"\n      }\n    },\n    {\n      \"column\": \"dl_applied\",\n      \"properties\": {\n        \"dtype\": \"number\",\n        \"std\": 0,\n        \"min\": 0,\n        \"max\": 1,\n        \"num_unique_values\": 2,\n        \"samples\": [\n          1\n        ],\n        \"semantic_type\": \"\",\n        \"description\": \"\"\n      }\n    },\n    {\n      \"column\": \"winner\",\n      \"properties\": {\n        \"dtype\": \"category\",\n        \"num_unique_values\": 15,\n        \"samples\": [\n          \"Deccan Chargers\"\n        ],\n        \"semantic_type\": \"\",\n        \"description\": \"\"\n      }\n    },\n    {\n      \"column\": \"win_by_runs\",\n      \"properties\": {\n        \"dtype\": \"number\",\n        \"std\": 27,\n        \"min\": 1,\n        \"max\": 146,\n        \"num_unique_values\": 88,\n        \"samples\": [\n          30\n        ],\n        \"semantic_type\": \"\",\n        \"description\": \"\"\n      }\n    },\n    {\n      \"column\": \"win_by_wickets\",\n      \"properties\": {\n        \"dtype\": \"number\",\n        \"std\": 0,\n        \"min\": 0,\n        \"max\": 0,\n        \"num_unique_values\": 1,\n        \"samples\": [\n          0\n        ],\n        \"semantic_type\": \"\",\n        \"description\": \"\"\n      }\n    },\n    {\n      \"column\": \"player_of_match\",\n      \"properties\": {\n        \"dtype\": \"category\",\n        \"num_unique_values\": 144,\n        \"samples\": [\n          \"GJ Bailey\"\n        ],\n        \"semantic_type\": \"\",\n        \"description\": \"\"\n      }\n    },\n    {\n      \"column\": \"venue\",\n      \"properties\": {\n        \"dtype\": \"category\",\n        \"num_unique_values\": 39,\n        \"samples\": [\n          \"Holkar Cricket Stadium\"\n        ],\n        \"semantic_type\": \"\",\n        \"description\": \"\"\n      }\n    },\n    {\n      \"column\": \"umpire1\",\n      \"properties\": {\n        \"dtype\": \"category\",\n        \"num_unique_values\": 52,\n        \"samples\": [\n          \"SJ Davis\"\n        ],\n        \"semantic_type\": \"\",\n        \"description\": \"\"\n      }\n    },\n    {\n      \"column\": \"umpire2\",\n      \"properties\": {\n        \"dtype\": \"category\",\n        \"num_unique_values\": 55,\n        \"samples\": [\n          \"S Asnani\"\n        ],\n        \"semantic_type\": \"\",\n        \"description\": \"\"\n      }\n    },\n    {\n      \"column\": \"umpire3\",\n      \"properties\": {\n        \"dtype\": \"category\",\n        \"num_unique_values\": 19,\n        \"samples\": [\n          \"Nitin Menon\"\n        ],\n        \"semantic_type\": \"\",\n        \"description\": \"\"\n      }\n    }\n  ]\n}"
            }
          },
          "metadata": {},
          "execution_count": 12
        }
      ]
    },
    {
      "cell_type": "markdown",
      "source": [
        "#**Histogram of Matches that team won after Bat First**"
      ],
      "metadata": {
        "id": "lYhxw8o-DTKT"
      }
    },
    {
      "cell_type": "code",
      "source": [
        "plt.figure(figsize = (8,8))\n",
        "plt.hist(bat_first[\"win_by_runs\"])\n",
        "plt.xlabel(\"Runs\")\n",
        "plt.ylabel(\"Number of Matches\")\n",
        "plt.show"
      ],
      "metadata": {
        "colab": {
          "base_uri": "https://localhost:8080/",
          "height": 866
        },
        "id": "P7oTlhkRhsKY",
        "outputId": "0d0b4297-7235-4a0f-9550-2e9c97aa5d18"
      },
      "execution_count": 13,
      "outputs": [
        {
          "output_type": "execute_result",
          "data": {
            "text/plain": [
              "<function matplotlib.pyplot.show(close=None, block=None)>"
            ],
            "text/html": [
              "<div style=\"max-width:800px; border: 1px solid var(--colab-border-color);\"><style>\n",
              "      pre.function-repr-contents {\n",
              "        overflow-x: auto;\n",
              "        padding: 8px 12px;\n",
              "        max-height: 500px;\n",
              "      }\n",
              "\n",
              "      pre.function-repr-contents.function-repr-contents-collapsed {\n",
              "        cursor: pointer;\n",
              "        max-height: 100px;\n",
              "      }\n",
              "    </style>\n",
              "    <pre style=\"white-space: initial; background:\n",
              "         var(--colab-secondary-surface-color); padding: 8px 12px;\n",
              "         border-bottom: 1px solid var(--colab-border-color);\"><b>matplotlib.pyplot.show</b><br/>def show(*args, **kwargs)</pre><pre class=\"function-repr-contents function-repr-contents-collapsed\" style=\"\"><a class=\"filepath\" style=\"display:none\" href=\"#\">/usr/local/lib/python3.10/dist-packages/matplotlib/pyplot.py</a>Display all open figures.\n",
              "\n",
              "Parameters\n",
              "----------\n",
              "block : bool, optional\n",
              "    Whether to wait for all figures to be closed before returning.\n",
              "\n",
              "    If `True` block and run the GUI main loop until all figure windows\n",
              "    are closed.\n",
              "\n",
              "    If `False` ensure that all figure windows are displayed and return\n",
              "    immediately.  In this case, you are responsible for ensuring\n",
              "    that the event loop is running to have responsive figures.\n",
              "\n",
              "    Defaults to True in non-interactive mode and to False in interactive\n",
              "    mode (see `.pyplot.isinteractive`).\n",
              "\n",
              "See Also\n",
              "--------\n",
              "ion : Enable interactive mode, which shows / updates the figure after\n",
              "      every plotting command, so that calling ``show()`` is not necessary.\n",
              "ioff : Disable interactive mode.\n",
              "savefig : Save the figure to an image file instead of showing it on screen.\n",
              "\n",
              "Notes\n",
              "-----\n",
              "**Saving figures to file and showing a window at the same time**\n",
              "\n",
              "If you want an image file as well as a user interface window, use\n",
              "`.pyplot.savefig` before `.pyplot.show`. At the end of (a blocking)\n",
              "``show()`` the figure is closed and thus unregistered from pyplot. Calling\n",
              "`.pyplot.savefig` afterwards would save a new and thus empty figure. This\n",
              "limitation of command order does not apply if the show is non-blocking or\n",
              "if you keep a reference to the figure and use `.Figure.savefig`.\n",
              "\n",
              "**Auto-show in jupyter notebooks**\n",
              "\n",
              "The jupyter backends (activated via ``%matplotlib inline``,\n",
              "``%matplotlib notebook``, or ``%matplotlib widget``), call ``show()`` at\n",
              "the end of every cell by default. Thus, you usually don&#x27;t have to call it\n",
              "explicitly there.</pre>\n",
              "      <script>\n",
              "      if (google.colab.kernel.accessAllowed && google.colab.files && google.colab.files.view) {\n",
              "        for (const element of document.querySelectorAll('.filepath')) {\n",
              "          element.style.display = 'block'\n",
              "          element.onclick = (event) => {\n",
              "            event.preventDefault();\n",
              "            event.stopPropagation();\n",
              "            google.colab.files.view(element.textContent, 401);\n",
              "          };\n",
              "        }\n",
              "      }\n",
              "      for (const element of document.querySelectorAll('.function-repr-contents')) {\n",
              "        element.onclick = (event) => {\n",
              "          event.preventDefault();\n",
              "          event.stopPropagation();\n",
              "          element.classList.toggle('function-repr-contents-collapsed');\n",
              "        };\n",
              "      }\n",
              "      </script>\n",
              "      </div>"
            ]
          },
          "metadata": {},
          "execution_count": 13
        },
        {
          "output_type": "display_data",
          "data": {
            "text/plain": [
              "<Figure size 800x800 with 1 Axes>"
            ],
            "image/png": "[encoded data removed]"
          },
          "metadata": {}
        }
      ]
    },
    {
      "cell_type": "markdown",
      "source": [
        "#**Count of Winning w.r.t Each Teams After Bat First**"
      ],
      "metadata": {
        "id": "aY2NzDJBDwdl"
      }
    },
    {
      "cell_type": "code",
      "source": [
        "bat_first[\"winner\"].value_counts()"
      ],
      "metadata": {
        "colab": {
          "base_uri": "https://localhost:8080/"
        },
        "id": "se_pYs9vhsMX",
        "outputId": "ec5a26ae-c8dc-4824-8e7b-3b2867037744"
      },
      "execution_count": 14,
      "outputs": [
        {
          "output_type": "execute_result",
          "data": {
            "text/plain": [
              "winner\n",
              "Mumbai Indians                 57\n",
              "Chennai Super Kings            52\n",
              "Kings XI Punjab                38\n",
              "Kolkata Knight Riders          36\n",
              "Royal Challengers Bangalore    35\n",
              "Sunrisers Hyderabad            30\n",
              "Rajasthan Royals               27\n",
              "Delhi Daredevils               25\n",
              "Deccan Chargers                18\n",
              "Pune Warriors                   6\n",
              "Rising Pune Supergiant          5\n",
              "Delhi Capitals                  3\n",
              "Kochi Tuskers Kerala            2\n",
              "Rising Pune Supergiants         2\n",
              "Gujarat Lions                   1\n",
              "Name: count, dtype: int64"
            ]
          },
          "metadata": {},
          "execution_count": 14
        }
      ]
    },
    {
      "cell_type": "markdown",
      "source": [
        "#**Bar Plot for Top 4 Winning Teams After Bat First**"
      ],
      "metadata": {
        "id": "SYipNshNEFzn"
      }
    },
    {
      "cell_type": "code",
      "source": [
        "plt.figure(figsize = (7,7))\n",
        "plt.bar(list(bat_first[\"winner\"].value_counts()[0:4].keys()),list(bat_first[\"winner\"].value_counts()[0:4]),color = [\"blue\", \"yellow\", \"orange\"])\n",
        "plt.xlabel(\"Teams\")\n",
        "plt.ylabel(\"Number of Winnings\")\n",
        "plt.show()"
      ],
      "metadata": {
        "colab": {
          "base_uri": "https://localhost:8080/",
          "height": 619
        },
        "id": "E7D5mN_GhsOn",
        "outputId": "22066bc6-0a22-45a2-8b6b-d0a765c0dc2a"
      },
      "execution_count": 15,
      "outputs": [
        {
          "output_type": "display_data",
          "data": {
            "text/plain": [
              "<Figure size 700x700 with 1 Axes>"
            ],
            "image/png": "[encoded data removed]"
          },
          "metadata": {}
        }
      ]
    },
    {
      "cell_type": "markdown",
      "source": [
        "#**Pie Chart for Winning Teams After Bat First**"
      ],
      "metadata": {
        "id": "gTkrYmrkEfvn"
      }
    },
    {
      "cell_type": "code",
      "source": [
        "plt.figure(figsize = (7,7))\n",
        "plt.pie(list(bat_first[\"winner\"].value_counts()),labels = list(bat_first[\"winner\"].value_counts().keys()),autopct = '%0.1f%%')\n",
        "plt.show()"
      ],
      "metadata": {
        "colab": {
          "base_uri": "https://localhost:8080/",
          "height": 576
        },
        "id": "KfpZKq-6hsXu",
        "outputId": "98dbbd19-57ba-48cb-f22d-e59321e29d39"
      },
      "execution_count": 16,
      "outputs": [
        {
          "output_type": "display_data",
          "data": {
            "text/plain": [
              "<Figure size 700x700 with 1 Axes>"
            ],
            "image/png": "[encoded data removed]"
          },
          "metadata": {}
        }
      ]
    },
    {
      "cell_type": "markdown",
      "source": [
        "#**Team Won After Bat Second**"
      ],
      "metadata": {
        "id": "qxi8-FooEt1X"
      }
    },
    {
      "cell_type": "code",
      "source": [
        "bat_second = ipl[ipl[\"win_by_wickets\"]!= 0]\n",
        "bat_second.head()"
      ],
      "metadata": {
        "colab": {
          "base_uri": "https://localhost:8080/",
          "height": 469
        },
        "id": "WklFXPP7CcVh",
        "outputId": "a9a028b3-df19-4682-e6b6-b85017bb4092"
      },
      "execution_count": 17,
      "outputs": [
        {
          "output_type": "execute_result",
          "data": {
            "text/plain": [
              "   id  season       city        date                   team1  \\\n",
              "1   2    2017       Pune  2017-04-06          Mumbai Indians   \n",
              "2   3    2017     Rajkot  2017-04-07           Gujarat Lions   \n",
              "3   4    2017     Indore  2017-04-08  Rising Pune Supergiant   \n",
              "5   6    2017  Hyderabad  2017-04-09           Gujarat Lions   \n",
              "6   7    2017     Mumbai  2017-04-09   Kolkata Knight Riders   \n",
              "\n",
              "                    team2             toss_winner toss_decision  result  \\\n",
              "1  Rising Pune Supergiant  Rising Pune Supergiant         field  normal   \n",
              "2   Kolkata Knight Riders   Kolkata Knight Riders         field  normal   \n",
              "3         Kings XI Punjab         Kings XI Punjab         field  normal   \n",
              "5     Sunrisers Hyderabad     Sunrisers Hyderabad         field  normal   \n",
              "6          Mumbai Indians          Mumbai Indians         field  normal   \n",
              "\n",
              "   dl_applied                  winner  win_by_runs  win_by_wickets  \\\n",
              "1           0  Rising Pune Supergiant            0               7   \n",
              "2           0   Kolkata Knight Riders            0              10   \n",
              "3           0         Kings XI Punjab            0               6   \n",
              "5           0     Sunrisers Hyderabad            0               9   \n",
              "6           0          Mumbai Indians            0               4   \n",
              "\n",
              "  player_of_match                                      venue         umpire1  \\\n",
              "1       SPD Smith    Maharashtra Cricket Association Stadium  A Nand Kishore   \n",
              "2         CA Lynn     Saurashtra Cricket Association Stadium     Nitin Menon   \n",
              "3      GJ Maxwell                     Holkar Cricket Stadium    AK Chaudhary   \n",
              "5     Rashid Khan  Rajiv Gandhi International Stadium, Uppal      A Deshmukh   \n",
              "6          N Rana                           Wankhede Stadium     Nitin Menon   \n",
              "\n",
              "         umpire2 umpire3  \n",
              "1         S Ravi     NaN  \n",
              "2      CK Nandan     NaN  \n",
              "3  C Shamshuddin     NaN  \n",
              "5       NJ Llong     NaN  \n",
              "6      CK Nandan     NaN  "
            ],
            "text/html": [
              "\n",
              "  <div id=\"df-b1b6e7da-64ee-4f73-b11a-7e97565a5b15\" class=\"colab-df-container\">\n",
              "    <div>\n",
              "<style scoped>\n",
              "    .dataframe tbody tr th:only-of-type {\n",
              "        vertical-align: middle;\n",
              "    }\n",
              "\n",
              "    .dataframe tbody tr th {\n",
              "        vertical-align: top;\n",
              "    }\n",
              "\n",
              "    .dataframe thead th {\n",
              "        text-align: right;\n",
              "    }\n",
              "</style>\n",
              "<table border=\"1\" class=\"dataframe\">\n",
              "  <thead>\n",
              "    <tr style=\"text-align: right;\">\n",
              "      <th></th>\n",
              "      <th>id</th>\n",
              "      <th>season</th>\n",
              "      <th>city</th>\n",
              "      <th>date</th>\n",
              "      <th>team1</th>\n",
              "      <th>team2</th>\n",
              "      <th>toss_winner</th>\n",
              "      <th>toss_decision</th>\n",
              "      <th>result</th>\n",
              "      <th>dl_applied</th>\n",
              "      <th>winner</th>\n",
              "      <th>win_by_runs</th>\n",
              "      <th>win_by_wickets</th>\n",
              "      <th>player_of_match</th>\n",
              "      <th>venue</th>\n",
              "      <th>umpire1</th>\n",
              "      <th>umpire2</th>\n",
              "      <th>umpire3</th>\n",
              "    </tr>\n",
              "  </thead>\n",
              "  <tbody>\n",
              "    <tr>\n",
              "      <th>1</th>\n",
              "      <td>2</td>\n",
              "      <td>2017</td>\n",
              "      <td>Pune</td>\n",
              "      <td>2017-04-06</td>\n",
              "      <td>Mumbai Indians</td>\n",
              "      <td>Rising Pune Supergiant</td>\n",
              "      <td>Rising Pune Supergiant</td>\n",
              "      <td>field</td>\n",
              "      <td>normal</td>\n",
              "      <td>0</td>\n",
              "      <td>Rising Pune Supergiant</td>\n",
              "      <td>0</td>\n",
              "      <td>7</td>\n",
              "      <td>SPD Smith</td>\n",
              "      <td>Maharashtra Cricket Association Stadium</td>\n",
              "      <td>A Nand Kishore</td>\n",
              "      <td>S Ravi</td>\n",
              "      <td>NaN</td>\n",
              "    </tr>\n",
              "    <tr>\n",
              "      <th>2</th>\n",
              "      <td>3</td>\n",
              "      <td>2017</td>\n",
              "      <td>Rajkot</td>\n",
              "      <td>2017-04-07</td>\n",
              "      <td>Gujarat Lions</td>\n",
              "      <td>Kolkata Knight Riders</td>\n",
              "      <td>Kolkata Knight Riders</td>\n",
              "      <td>field</td>\n",
              "      <td>normal</td>\n",
              "      <td>0</td>\n",
              "      <td>Kolkata Knight Riders</td>\n",
              "      <td>0</td>\n",
              "      <td>10</td>\n",
              "      <td>CA Lynn</td>\n",
              "      <td>Saurashtra Cricket Association Stadium</td>\n",
              "      <td>Nitin Menon</td>\n",
              "      <td>CK Nandan</td>\n",
              "      <td>NaN</td>\n",
              "    </tr>\n",
              "    <tr>\n",
              "      <th>3</th>\n",
              "      <td>4</td>\n",
              "      <td>2017</td>\n",
              "      <td>Indore</td>\n",
              "      <td>2017-04-08</td>\n",
              "      <td>Rising Pune Supergiant</td>\n",
              "      <td>Kings XI Punjab</td>\n",
              "      <td>Kings XI Punjab</td>\n",
              "      <td>field</td>\n",
              "      <td>normal</td>\n",
              "      <td>0</td>\n",
              "      <td>Kings XI Punjab</td>\n",
              "      <td>0</td>\n",
              "      <td>6</td>\n",
              "      <td>GJ Maxwell</td>\n",
              "      <td>Holkar Cricket Stadium</td>\n",
              "      <td>AK Chaudhary</td>\n",
              "      <td>C Shamshuddin</td>\n",
              "      <td>NaN</td>\n",
              "    </tr>\n",
              "    <tr>\n",
              "      <th>5</th>\n",
              "      <td>6</td>\n",
              "      <td>2017</td>\n",
              "      <td>Hyderabad</td>\n",
              "      <td>2017-04-09</td>\n",
              "      <td>Gujarat Lions</td>\n",
              "      <td>Sunrisers Hyderabad</td>\n",
              "      <td>Sunrisers Hyderabad</td>\n",
              "      <td>field</td>\n",
              "      <td>normal</td>\n",
              "      <td>0</td>\n",
              "      <td>Sunrisers Hyderabad</td>\n",
              "      <td>0</td>\n",
              "      <td>9</td>\n",
              "      <td>Rashid Khan</td>\n",
              "      <td>Rajiv Gandhi International Stadium, Uppal</td>\n",
              "      <td>A Deshmukh</td>\n",
              "      <td>NJ Llong</td>\n",
              "      <td>NaN</td>\n",
              "    </tr>\n",
              "    <tr>\n",
              "      <th>6</th>\n",
              "      <td>7</td>\n",
              "      <td>2017</td>\n",
              "      <td>Mumbai</td>\n",
              "      <td>2017-04-09</td>\n",
              "      <td>Kolkata Knight Riders</td>\n",
              "      <td>Mumbai Indians</td>\n",
              "      <td>Mumbai Indians</td>\n",
              "      <td>field</td>\n",
              "      <td>normal</td>\n",
              "      <td>0</td>\n",
              "      <td>Mumbai Indians</td>\n",
              "      <td>0</td>\n",
              "      <td>4</td>\n",
              "      <td>N Rana</td>\n",
              "      <td>Wankhede Stadium</td>\n",
              "      <td>Nitin Menon</td>\n",
              "      <td>CK Nandan</td>\n",
              "      <td>NaN</td>\n",
              "    </tr>\n",
              "  </tbody>\n",
              "</table>\n",
              "</div>\n",
              "    <div class=\"colab-df-buttons\">\n",
              "\n",
              "  <div class=\"colab-df-container\">\n",
              "    <button class=\"colab-df-convert\" onclick=\"convertToInteractive('df-b1b6e7da-64ee-4f73-b11a-7e97565a5b15')\"\n",
              "            title=\"Convert this dataframe to an interactive table.\"\n",
              "            style=\"display:none;\">\n",
              "\n",
              "  <svg xmlns=\"http://www.w3.org/2000/svg\" height=\"24px\" viewBox=\"0 -960 960 960\">\n",
              "    <path d=\"M120-120v-720h720v720H120Zm60-500h600v-160H180v160Zm220 220h160v-160H400v160Zm0 220h160v-160H400v160ZM180-400h160v-160H180v160Zm440 0h160v-160H620v160ZM180-180h160v-160H180v160Zm440 0h160v-160H620v160Z\"/>\n",
              "  </svg>\n",
              "    </button>\n",
              "\n",
              "  <style>\n",
              "    .colab-df-container {\n",
              "      display:flex;\n",
              "      gap: 12px;\n",
              "    }\n",
              "\n",
              "    .colab-df-convert {\n",
              "      background-color: #E8F0FE;\n",
              "      border: none;\n",
              "      border-radius: 50%;\n",
              "      cursor: pointer;\n",
              "      display: none;\n",
              "      fill: #1967D2;\n",
              "      height: 32px;\n",
              "      padding: 0 0 0 0;\n",
              "      width: 32px;\n",
              "    }\n",
              "\n",
              "    .colab-df-convert:hover {\n",
              "      background-color: #E2EBFA;\n",
              "      box-shadow: 0px 1px 2px rgba(60, 64, 67, 0.3), 0px 1px 3px 1px rgba(60, 64, 67, 0.15);\n",
              "      fill: #174EA6;\n",
              "    }\n",
              "\n",
              "    .colab-df-buttons div {\n",
              "      margin-bottom: 4px;\n",
              "    }\n",
              "\n",
              "    [theme=dark] .colab-df-convert {\n",
              "      background-color: #3B4455;\n",
              "      fill: #D2E3FC;\n",
              "    }\n",
              "\n",
              "    [theme=dark] .colab-df-convert:hover {\n",
              "      background-color: #434B5C;\n",
              "      box-shadow: 0px 1px 3px 1px rgba(0, 0, 0, 0.15);\n",
              "      filter: drop-shadow(0px 1px 2px rgba(0, 0, 0, 0.3));\n",
              "      fill: #FFFFFF;\n",
              "    }\n",
              "  </style>\n",
              "\n",
              "    <script>\n",
              "      const buttonEl =\n",
              "        document.querySelector('#df-b1b6e7da-64ee-4f73-b11a-7e97565a5b15 button.colab-df-convert');\n",
              "      buttonEl.style.display =\n",
              "        google.colab.kernel.accessAllowed ? 'block' : 'none';\n",
              "\n",
              "      async function convertToInteractive(key) {\n",
              "        const element = document.querySelector('#df-b1b6e7da-64ee-4f73-b11a-7e97565a5b15');\n",
              "        const dataTable =\n",
              "          await google.colab.kernel.invokeFunction('convertToInteractive',\n",
              "                                                    [key], {});\n",
              "        if (!dataTable) return;\n",
              "\n",
              "        const docLinkHtml = 'Like what you see? Visit the ' +\n",
              "          '<a target=\"_blank\" href=https://colab.research.google.com/notebooks/data_table.ipynb>data table notebook</a>'\n",
              "          + ' to learn more about interactive tables.';\n",
              "        element.innerHTML = '';\n",
              "        dataTable['output_type'] = 'display_data';\n",
              "        await google.colab.output.renderOutput(dataTable, element);\n",
              "        const docLink = document.createElement('div');\n",
              "        docLink.innerHTML = docLinkHtml;\n",
              "        element.appendChild(docLink);\n",
              "      }\n",
              "    </script>\n",
              "  </div>\n",
              "\n",
              "\n",
              "<div id=\"df-9c070d9e-5c5a-4a4e-805f-d79e8f0263ae\">\n",
              "  <button class=\"colab-df-quickchart\" onclick=\"quickchart('df-9c070d9e-5c5a-4a4e-805f-d79e8f0263ae')\"\n",
              "            title=\"Suggest charts\"\n",
              "            style=\"display:none;\">\n",
              "\n",
              "<svg xmlns=\"http://www.w3.org/2000/svg\" height=\"24px\"viewBox=\"0 0 24 24\"\n",
              "     width=\"24px\">\n",
              "    <g>\n",
              "        <path d=\"M19 3H5c-1.1 0-2 .9-2 2v14c0 1.1.9 2 2 2h14c1.1 0 2-.9 2-2V5c0-1.1-.9-2-2-2zM9 17H7v-7h2v7zm4 0h-2V7h2v10zm4 0h-2v-4h2v4z\"/>\n",
              "    </g>\n",
              "</svg>\n",
              "  </button>\n",
              "\n",
              "<style>\n",
              "  .colab-df-quickchart {\n",
              "      --bg-color: #E8F0FE;\n",
              "      --fill-color: #1967D2;\n",
              "      --hover-bg-color: #E2EBFA;\n",
              "      --hover-fill-color: #174EA6;\n",
              "      --disabled-fill-color: #AAA;\n",
              "      --disabled-bg-color: #DDD;\n",
              "  }\n",
              "\n",
              "  [theme=dark] .colab-df-quickchart {\n",
              "      --bg-color: #3B4455;\n",
              "      --fill-color: #D2E3FC;\n",
              "      --hover-bg-color: #434B5C;\n",
              "      --hover-fill-color: #FFFFFF;\n",
              "      --disabled-bg-color: #3B4455;\n",
              "      --disabled-fill-color: #666;\n",
              "  }\n",
              "\n",
              "  .colab-df-quickchart {\n",
              "    background-color: var(--bg-color);\n",
              "    border: none;\n",
              "    border-radius: 50%;\n",
              "    cursor: pointer;\n",
              "    display: none;\n",
              "    fill: var(--fill-color);\n",
              "    height: 32px;\n",
              "    padding: 0;\n",
              "    width: 32px;\n",
              "  }\n",
              "\n",
              "  .colab-df-quickchart:hover {\n",
              "    background-color: var(--hover-bg-color);\n",
              "    box-shadow: 0 1px 2px rgba(60, 64, 67, 0.3), 0 1px 3px 1px rgba(60, 64, 67, 0.15);\n",
              "    fill: var(--button-hover-fill-color);\n",
              "  }\n",
              "\n",
              "  .colab-df-quickchart-complete:disabled,\n",
              "  .colab-df-quickchart-complete:disabled:hover {\n",
              "    background-color: var(--disabled-bg-color);\n",
              "    fill: var(--disabled-fill-color);\n",
              "    box-shadow: none;\n",
              "  }\n",
              "\n",
              "  .colab-df-spinner {\n",
              "    border: 2px solid var(--fill-color);\n",
              "    border-color: transparent;\n",
              "    border-bottom-color: var(--fill-color);\n",
              "    animation:\n",
              "      spin 1s steps(1) infinite;\n",
              "  }\n",
              "\n",
              "  @keyframes spin {\n",
              "    0% {\n",
              "      border-color: transparent;\n",
              "      border-bottom-color: var(--fill-color);\n",
              "      border-left-color: var(--fill-color);\n",
              "    }\n",
              "    20% {\n",
              "      border-color: transparent;\n",
              "      border-left-color: var(--fill-color);\n",
              "      border-top-color: var(--fill-color);\n",
              "    }\n",
              "    30% {\n",
              "      border-color: transparent;\n",
              "      border-left-color: var(--fill-color);\n",
              "      border-top-color: var(--fill-color);\n",
              "      border-right-color: var(--fill-color);\n",
              "    }\n",
              "    40% {\n",
              "      border-color: transparent;\n",
              "      border-right-color: var(--fill-color);\n",
              "      border-top-color: var(--fill-color);\n",
              "    }\n",
              "    60% {\n",
              "      border-color: transparent;\n",
              "      border-right-color: var(--fill-color);\n",
              "    }\n",
              "    80% {\n",
              "      border-color: transparent;\n",
              "      border-right-color: var(--fill-color);\n",
              "      border-bottom-color: var(--fill-color);\n",
              "    }\n",
              "    90% {\n",
              "      border-color: transparent;\n",
              "      border-bottom-color: var(--fill-color);\n",
              "    }\n",
              "  }\n",
              "</style>\n",
              "\n",
              "  <script>\n",
              "    async function quickchart(key) {\n",
              "      const quickchartButtonEl =\n",
              "        document.querySelector('#' + key + ' button');\n",
              "      quickchartButtonEl.disabled = true;  // To prevent multiple clicks.\n",
              "      quickchartButtonEl.classList.add('colab-df-spinner');\n",
              "      try {\n",
              "        const charts = await google.colab.kernel.invokeFunction(\n",
              "            'suggestCharts', [key], {});\n",
              "      } catch (error) {\n",
              "        console.error('Error during call to suggestCharts:', error);\n",
              "      }\n",
              "      quickchartButtonEl.classList.remove('colab-df-spinner');\n",
              "      quickchartButtonEl.classList.add('colab-df-quickchart-complete');\n",
              "    }\n",
              "    (() => {\n",
              "      let quickchartButtonEl =\n",
              "        document.querySelector('#df-9c070d9e-5c5a-4a4e-805f-d79e8f0263ae button');\n",
              "      quickchartButtonEl.style.display =\n",
              "        google.colab.kernel.accessAllowed ? 'block' : 'none';\n",
              "    })();\n",
              "  </script>\n",
              "</div>\n",
              "\n",
              "    </div>\n",
              "  </div>\n"
            ],
            "application/vnd.google.colaboratory.intrinsic+json": {
              "type": "dataframe",
              "variable_name": "bat_second",
              "summary": "{\n  \"name\": \"bat_second\",\n  \"rows\": 406,\n  \"fields\": [\n    {\n      \"column\": \"id\",\n      \"properties\": {\n        \"dtype\": \"number\",\n        \"std\": 3550,\n        \"min\": 2,\n        \"max\": 11414,\n        \"num_unique_values\": 406,\n        \"samples\": [\n          131,\n          415,\n          492\n        ],\n        \"semantic_type\": \"\",\n        \"description\": \"\"\n      }\n    },\n    {\n      \"column\": \"season\",\n      \"properties\": {\n        \"dtype\": \"number\",\n        \"std\": 3,\n        \"min\": 2008,\n        \"max\": 2019,\n        \"num_unique_values\": 12,\n        \"samples\": [\n          2018,\n          2016,\n          2017\n        ],\n        \"semantic_type\": \"\",\n        \"description\": \"\"\n      }\n    },\n    {\n      \"column\": \"city\",\n      \"properties\": {\n        \"dtype\": \"category\",\n        \"num_unique_values\": 32,\n        \"samples\": [\n          \"Abu Dhabi\",\n          \"Centurion\",\n          \"Visakhapatnam\"\n        ],\n        \"semantic_type\": \"\",\n        \"description\": \"\"\n      }\n    },\n    {\n      \"column\": \"date\",\n      \"properties\": {\n        \"dtype\": \"string\",\n        \"num_unique_values\": 348,\n        \"samples\": [\n          \"2015-05-22\",\n          \"2011-04-16\",\n          \"19/05/18\"\n        ],\n        \"semantic_type\": \"\",\n        \"description\": \"\"\n      }\n    },\n    {\n      \"column\": \"team1\",\n      \"properties\": {\n        \"dtype\": \"category\",\n        \"num_unique_values\": 15,\n        \"samples\": [\n          \"Deccan Chargers\",\n          \"Kochi Tuskers Kerala\",\n          \"Mumbai Indians\"\n        ],\n        \"semantic_type\": \"\",\n        \"description\": \"\"\n      }\n    },\n    {\n      \"column\": \"team2\",\n      \"properties\": {\n        \"dtype\": \"category\",\n        \"num_unique_values\": 15,\n        \"samples\": [\n          \"Chennai Super Kings\",\n          \"Pune Warriors\",\n          \"Rising Pune Supergiant\"\n        ],\n        \"semantic_type\": \"\",\n        \"description\": \"\"\n      }\n    },\n    {\n      \"column\": \"toss_winner\",\n      \"properties\": {\n        \"dtype\": \"category\",\n        \"num_unique_values\": 15,\n        \"samples\": [\n          \"Deccan Chargers\",\n          \"Kochi Tuskers Kerala\",\n          \"Rising Pune Supergiant\"\n        ],\n        \"semantic_type\": \"\",\n        \"description\": \"\"\n      }\n    },\n    {\n      \"column\": \"toss_decision\",\n      \"properties\": {\n        \"dtype\": \"category\",\n        \"num_unique_values\": 2,\n        \"samples\": [\n          \"bat\",\n          \"field\"\n        ],\n        \"semantic_type\": \"\",\n        \"description\": \"\"\n      }\n    },\n    {\n      \"column\": \"result\",\n      \"properties\": {\n        \"dtype\": \"category\",\n        \"num_unique_values\": 1,\n        \"samples\": [\n          \"normal\"\n        ],\n        \"semantic_type\": \"\",\n        \"description\": \"\"\n      }\n    },\n    {\n      \"column\": \"dl_applied\",\n      \"properties\": {\n        \"dtype\": \"number\",\n        \"std\": 0,\n        \"min\": 0,\n        \"max\": 1,\n        \"num_unique_values\": 2,\n        \"samples\": [\n          1\n        ],\n        \"semantic_type\": \"\",\n        \"description\": \"\"\n      }\n    },\n    {\n      \"column\": \"winner\",\n      \"properties\": {\n        \"dtype\": \"category\",\n        \"num_unique_values\": 15,\n        \"samples\": [\n          \"Chennai Super Kings\"\n        ],\n        \"semantic_type\": \"\",\n        \"description\": \"\"\n      }\n    },\n    {\n      \"column\": \"win_by_runs\",\n      \"properties\": {\n        \"dtype\": \"number\",\n        \"std\": 0,\n        \"min\": 0,\n        \"max\": 0,\n        \"num_unique_values\": 1,\n        \"samples\": [\n          0\n        ],\n        \"semantic_type\": \"\",\n        \"description\": \"\"\n      }\n    },\n    {\n      \"column\": \"win_by_wickets\",\n      \"properties\": {\n        \"dtype\": \"number\",\n        \"std\": 1,\n        \"min\": 1,\n        \"max\": 10,\n        \"num_unique_values\": 10,\n        \"samples\": [\n          3\n        ],\n        \"semantic_type\": \"\",\n        \"description\": \"\"\n      }\n    },\n    {\n      \"column\": \"player_of_match\",\n      \"properties\": {\n        \"dtype\": \"category\",\n        \"num_unique_values\": 176,\n        \"samples\": [\n          \"Mohammed Shami\"\n        ],\n        \"semantic_type\": \"\",\n        \"description\": \"\"\n      }\n    },\n    {\n      \"column\": \"venue\",\n      \"properties\": {\n        \"dtype\": \"category\",\n        \"num_unique_values\": 41,\n        \"samples\": [\n          \"Vidarbha Cricket Association Stadium, Jamtha\"\n        ],\n        \"semantic_type\": \"\",\n        \"description\": \"\"\n      }\n    },\n    {\n      \"column\": \"umpire1\",\n      \"properties\": {\n        \"dtype\": \"category\",\n        \"num_unique_values\": 59,\n        \"samples\": [\n          \"A Nand Kishore\"\n        ],\n        \"semantic_type\": \"\",\n        \"description\": \"\"\n      }\n    },\n    {\n      \"column\": \"umpire2\",\n      \"properties\": {\n        \"dtype\": \"category\",\n        \"num_unique_values\": 60,\n        \"samples\": [\n          \"S Ravi\"\n        ],\n        \"semantic_type\": \"\",\n        \"description\": \"\"\n      }\n    },\n    {\n      \"column\": \"umpire3\",\n      \"properties\": {\n        \"dtype\": \"category\",\n        \"num_unique_values\": 23,\n        \"samples\": [\n          \"Ulhas Gandhe\"\n        ],\n        \"semantic_type\": \"\",\n        \"description\": \"\"\n      }\n    }\n  ]\n}"
            }
          },
          "metadata": {},
          "execution_count": 17
        }
      ]
    },
    {
      "cell_type": "markdown",
      "source": [
        "#**Histogram of number of Winnings After Bat Second**"
      ],
      "metadata": {
        "id": "FakdwoNkiZQd"
      }
    },
    {
      "cell_type": "code",
      "source": [
        "plt.figure(figsize = (7,7))\n",
        "plt.hist(bat_second[\"win_by_wickets\"], bins=30)\n",
        "plt.xlabel(\"Wickets\")\n",
        "plt.ylabel(\"Number of Matches\")\n",
        "plt.show()"
      ],
      "metadata": {
        "id": "JyGaFpQWE6Gm",
        "colab": {
          "base_uri": "https://localhost:8080/",
          "height": 619
        },
        "outputId": "5b80e98c-9b34-4ea5-bbe5-7d8b6edd32bd"
      },
      "execution_count": 18,
      "outputs": [
        {
          "output_type": "display_data",
          "data": {
            "text/plain": [
              "<Figure size 700x700 with 1 Axes>"
            ],
            "image/png": "[encoded data removed]"
          },
          "metadata": {}
        }
      ]
    },
    {
      "cell_type": "markdown",
      "source": [
        "#**Number of Matches that Each Team Won After Bat Second**"
      ],
      "metadata": {
        "id": "CJLekXUZkMlt"
      }
    },
    {
      "cell_type": "code",
      "source": [
        "bat_second[\"winner\"].value_counts()"
      ],
      "metadata": {
        "id": "0-ZaUPJIDJqo",
        "colab": {
          "base_uri": "https://localhost:8080/"
        },
        "outputId": "c9558a0e-8056-4788-c475-d7703a419f10"
      },
      "execution_count": 19,
      "outputs": [
        {
          "output_type": "execute_result",
          "data": {
            "text/plain": [
              "winner\n",
              "Kolkata Knight Riders          56\n",
              "Mumbai Indians                 50\n",
              "Royal Challengers Bangalore    48\n",
              "Chennai Super Kings            48\n",
              "Rajasthan Royals               46\n",
              "Kings XI Punjab                42\n",
              "Delhi Daredevils               42\n",
              "Sunrisers Hyderabad            27\n",
              "Gujarat Lions                  12\n",
              "Deccan Chargers                11\n",
              "Pune Warriors                   6\n",
              "Delhi Capitals                  6\n",
              "Rising Pune Supergiant          5\n",
              "Kochi Tuskers Kerala            4\n",
              "Rising Pune Supergiants         3\n",
              "Name: count, dtype: int64"
            ]
          },
          "metadata": {},
          "execution_count": 19
        }
      ]
    },
    {
      "cell_type": "markdown",
      "source": [
        "#**Bar Plot of Top 3 Teams Won After Bat Second**"
      ],
      "metadata": {
        "id": "h2LggLkWmDPx"
      }
    },
    {
      "cell_type": "code",
      "source": [
        "plt.figure(figsize = (6.5,6.5))\n",
        "plt.bar(list(bat_second[\"winner\"].value_counts()[0:3].keys()),list(bat_second[\"winner\"].value_counts()[0:3]), color=[\"blue\",\"green\",\"yellow\"])\n",
        "plt.xlabel(\"Teams\")\n",
        "plt.ylabel(\"Number of Winnings\")\n",
        "plt.show()"
      ],
      "metadata": {
        "colab": {
          "base_uri": "https://localhost:8080/",
          "height": 580
        },
        "id": "KadGo-1RkWqz",
        "outputId": "8370961d-cc3c-4130-e64c-22978195fcea"
      },
      "execution_count": 20,
      "outputs": [
        {
          "output_type": "display_data",
          "data": {
            "text/plain": [
              "<Figure size 650x650 with 1 Axes>"
            ],
            "image/png": "[encoded data removed]"
          },
          "metadata": {}
        }
      ]
    },
    {
      "cell_type": "markdown",
      "source": [
        "#**Pie Chart of Team most Won After Bat Second**"
      ],
      "metadata": {
        "id": "_uZnHpOgnBo7"
      }
    },
    {
      "cell_type": "code",
      "source": [
        "plt.figure(figsize=(6.5,6.5))\n",
        "plt.pie(list(bat_second[\"winner\"].value_counts()),labels=list(bat_second[\"winner\"].value_counts().keys()), autopct=\"%0.1f%%\")\n",
        "plt.show()"
      ],
      "metadata": {
        "colab": {
          "base_uri": "https://localhost:8080/",
          "height": 537
        },
        "id": "nqdwqy2dkW3G",
        "outputId": "d3408a26-7528-478b-8844-155a8596fdb6"
      },
      "execution_count": 21,
      "outputs": [
        {
          "output_type": "display_data",
          "data": {
            "text/plain": [
              "<Figure size 650x650 with 1 Axes>"
            ],
            "image/png": "[encoded data removed]"
          },
          "metadata": {}
        }
      ]
    },
    {
      "cell_type": "markdown",
      "source": [
        "#**Number of Matches Played Each Season**"
      ],
      "metadata": {
        "id": "fv5vf_1OntNT"
      }
    },
    {
      "cell_type": "code",
      "source": [
        "ipl[\"season\"].value_counts()"
      ],
      "metadata": {
        "colab": {
          "base_uri": "https://localhost:8080/"
        },
        "id": "dMHJ_gJ0kW-8",
        "outputId": "b81dc42e-2930-44a0-8141-9e191f12232f"
      },
      "execution_count": 22,
      "outputs": [
        {
          "output_type": "execute_result",
          "data": {
            "text/plain": [
              "season\n",
              "2013    76\n",
              "2012    74\n",
              "2011    73\n",
              "2010    60\n",
              "2014    60\n",
              "2016    60\n",
              "2018    60\n",
              "2019    60\n",
              "2017    59\n",
              "2015    59\n",
              "2008    58\n",
              "2009    57\n",
              "Name: count, dtype: int64"
            ]
          },
          "metadata": {},
          "execution_count": 22
        }
      ]
    },
    {
      "cell_type": "code",
      "source": [
        "ipl[\"city\"].value_counts()"
      ],
      "metadata": {
        "colab": {
          "base_uri": "https://localhost:8080/"
        },
        "id": "yTnCaTXakXGr",
        "outputId": "c236da88-9d04-4b15-aff0-ea8df1055fe0"
      },
      "execution_count": 23,
      "outputs": [
        {
          "output_type": "execute_result",
          "data": {
            "text/plain": [
              "city\n",
              "Mumbai            101\n",
              "Kolkata            77\n",
              "Delhi              74\n",
              "Bangalore          66\n",
              "Hyderabad          64\n",
              "Chennai            57\n",
              "Jaipur             47\n",
              "Chandigarh         46\n",
              "Pune               38\n",
              "Durban             15\n",
              "Bengaluru          14\n",
              "Visakhapatnam      13\n",
              "Centurion          12\n",
              "Ahmedabad          12\n",
              "Rajkot             10\n",
              "Mohali             10\n",
              "Indore              9\n",
              "Dharamsala          9\n",
              "Johannesburg        8\n",
              "Cuttack             7\n",
              "Ranchi              7\n",
              "Port Elizabeth      7\n",
              "Cape Town           7\n",
              "Abu Dhabi           7\n",
              "Sharjah             6\n",
              "Raipur              6\n",
              "Kochi               5\n",
              "Kanpur              4\n",
              "Nagpur              3\n",
              "Kimberley           3\n",
              "East London         3\n",
              "Bloemfontein        2\n",
              "Name: count, dtype: int64"
            ]
          },
          "metadata": {},
          "execution_count": 23
        }
      ]
    },
    {
      "cell_type": "markdown",
      "source": [
        "#**Number of times the team won after winning the toss**"
      ],
      "metadata": {
        "id": "XfnMshuSogBE"
      }
    },
    {
      "cell_type": "code",
      "source": [
        "import numpy as np\n",
        "np.sum(ipl[\"toss_winner\"] == ipl[\"winner\"])"
      ],
      "metadata": {
        "colab": {
          "base_uri": "https://localhost:8080/"
        },
        "id": "jAC0Ql-xkXR9",
        "outputId": "91a83bdf-d755-4c81-c86e-4a9ceeb18256"
      },
      "execution_count": 24,
      "outputs": [
        {
          "output_type": "execute_result",
          "data": {
            "text/plain": [
              "393"
            ]
          },
          "metadata": {},
          "execution_count": 24
        }
      ]
    },
    {
      "cell_type": "code",
      "source": [
        "393 / 636"
      ],
      "metadata": {
        "colab": {
          "base_uri": "https://localhost:8080/"
        },
        "id": "QybQGZs4oJTo",
        "outputId": "09ffafa1-fd8a-4921-d8d4-c13d2c3ab19f"
      },
      "execution_count": 25,
      "outputs": [
        {
          "output_type": "execute_result",
          "data": {
            "text/plain": [
              "0.6179245283018868"
            ]
          },
          "metadata": {},
          "execution_count": 25
        }
      ]
    }
  ]
}