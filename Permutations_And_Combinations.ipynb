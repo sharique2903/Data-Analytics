{
  "nbformat": 4,
  "nbformat_minor": 0,
  "metadata": {
    "colab": {
      "provenance": [],
      "authorship_tag": "ABX9TyMwrQhkp88ym+iJifkZQq7/",
      "include_colab_link": true
    },
    "kernelspec": {
      "name": "python3",
      "display_name": "Python 3"
    },
    "language_info": {
      "name": "python"
    }
  },
  "cells": [
    {
      "cell_type": "markdown",
      "metadata": {
        "id": "view-in-github",
        "colab_type": "text"
      },
      "source": [
        "<a href=\"https://colab.research.google.com/github/sharique2903/Data-Analytics/blob/main/Permutations_And_Combinations.ipynb\" target=\"_parent\"><img src=\"https://colab.research.google.com/assets/colab-badge.svg\" alt=\"Open In Colab\"/></a>"
      ]
    },
    {
      "cell_type": "markdown",
      "source": [
        "#**Permutations**\n"
      ],
      "metadata": {
        "id": "YTotEwTYkgzT"
      }
    },
    {
      "cell_type": "code",
      "execution_count": 5,
      "metadata": {
        "colab": {
          "base_uri": "https://localhost:8080/"
        },
        "id": "XfBF2JaBkW-r",
        "outputId": "bcc79677-d693-4152-f8ec-797ad2c40ab3"
      },
      "outputs": [
        {
          "output_type": "stream",
          "name": "stdout",
          "text": [
            "(1, 2)\n",
            "(1, 3)\n",
            "(2, 1)\n",
            "(2, 3)\n",
            "(3, 1)\n",
            "(3, 2)\n",
            "Permutation Count:  6\n"
          ]
        }
      ],
      "source": [
        "from itertools import permutations\n",
        "count = 0\n",
        "data = [1,2,3]\n",
        "perm = permutations(data,2)\n",
        "for i in list(perm):\n",
        "  print(i)\n",
        "  count += 1\n",
        "print(\"Permutation Count: \",count)"
      ]
    },
    {
      "cell_type": "markdown",
      "source": [
        "#**Combinations**"
      ],
      "metadata": {
        "id": "3uIdmHYMlYC0"
      }
    },
    {
      "cell_type": "code",
      "source": [
        "from itertools import combinations\n",
        "count = 0\n",
        "data = [1,2,3]\n",
        "perm = combinations(data,2)\n",
        "for i in list(perm):\n",
        "  print(i)\n",
        "  count += 1\n",
        "print(\"Combinations Count:\", count)"
      ],
      "metadata": {
        "colab": {
          "base_uri": "https://localhost:8080/"
        },
        "id": "nNRThNbFlcLq",
        "outputId": "0a9cc3b7-086d-443e-fb76-04e892019e30"
      },
      "execution_count": 6,
      "outputs": [
        {
          "output_type": "stream",
          "name": "stdout",
          "text": [
            "(1, 2)\n",
            "(1, 3)\n",
            "(2, 3)\n",
            "Combinations Count: 3\n"
          ]
        }
      ]
    },
    {
      "cell_type": "markdown",
      "source": [
        "#**Combinations with Replacement**"
      ],
      "metadata": {
        "id": "ab4Dg8cnl3iR"
      }
    },
    {
      "cell_type": "code",
      "source": [
        "from itertools import combinations_with_replacement as cr\n",
        "count = 0\n",
        "data = [1,2,3]\n",
        "perm = cr(data,2)\n",
        "for i in list(perm):\n",
        "  print(i)\n",
        "  count += 1\n",
        "print(\"combinations with replacements: \",count)"
      ],
      "metadata": {
        "colab": {
          "base_uri": "https://localhost:8080/"
        },
        "id": "KV7uyVKGmDZK",
        "outputId": "dfe1671e-c2b3-4739-a64d-e2b50b382a8f"
      },
      "execution_count": 9,
      "outputs": [
        {
          "output_type": "stream",
          "name": "stdout",
          "text": [
            "(1, 1)\n",
            "(1, 2)\n",
            "(1, 3)\n",
            "(2, 2)\n",
            "(2, 3)\n",
            "(3, 3)\n",
            "combinations with replacements:  6\n"
          ]
        }
      ]
    }
  ]
}